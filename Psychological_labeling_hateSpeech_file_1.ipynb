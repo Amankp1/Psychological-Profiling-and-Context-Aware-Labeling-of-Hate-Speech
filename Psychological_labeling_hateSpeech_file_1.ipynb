{
  "nbformat": 4,
  "nbformat_minor": 0,
  "metadata": {
    "colab": {
      "provenance": [],
      "authorship_tag": "ABX9TyNak5RxQni8SRSo8hA3YrnN",
      "include_colab_link": true
    },
    "kernelspec": {
      "name": "python3",
      "display_name": "Python 3"
    },
    "language_info": {
      "name": "python"
    }
  },
  "cells": [
    {
      "cell_type": "markdown",
      "metadata": {
        "id": "view-in-github",
        "colab_type": "text"
      },
      "source": [
        "<a href=\"https://colab.research.google.com/github/Amankp1/Psychological-Profiling-and-Context-Aware-Labeling-of-Hate-Speech/blob/main/Psychological_labeling_hateSpeech_file_1.ipynb\" target=\"_parent\"><img src=\"https://colab.research.google.com/assets/colab-badge.svg\" alt=\"Open In Colab\"/></a>"
      ]
    },
    {
      "cell_type": "code",
      "source": [
        "import pandas as pd\n",
        "import numpy as np\n",
        "import re\n",
        "import nltk\n",
        "import string"
      ],
      "metadata": {
        "id": "meO20kvk-g_4"
      },
      "execution_count": 1,
      "outputs": []
    },
    {
      "cell_type": "code",
      "source": [
        "nltk.download('stopwords')\n",
        "nltk.download('wordnet')\n",
        "\n",
        "from nltk.corpus import stopwords\n",
        "from nltk.stem import WordNetLemmatizer"
      ],
      "metadata": {
        "colab": {
          "base_uri": "https://localhost:8080/"
        },
        "id": "SuF9iaK5-wec",
        "outputId": "78281a42-b1c0-490d-b27c-0d9c53554e6a"
      },
      "execution_count": 2,
      "outputs": [
        {
          "output_type": "stream",
          "name": "stderr",
          "text": [
            "[nltk_data] Downloading package stopwords to /root/nltk_data...\n",
            "[nltk_data]   Package stopwords is already up-to-date!\n",
            "[nltk_data] Downloading package wordnet to /root/nltk_data...\n",
            "[nltk_data]   Package wordnet is already up-to-date!\n"
          ]
        }
      ]
    },
    {
      "cell_type": "code",
      "source": [
        "df = pd.read_csv(\"hate_speech_dataset.csv\")"
      ],
      "metadata": {
        "id": "Et36h6pg6UUZ"
      },
      "execution_count": 3,
      "outputs": []
    },
    {
      "cell_type": "code",
      "source": [
        "def clean_text(text):\n",
        "    text = text.lower()  # Convert to lowercase\n",
        "    text = re.sub(r'\\d+', '', text)  # Remove numbers\n",
        "    text = text.translate(str.maketrans(\"\", \"\", string.punctuation))  # Remove punctuation\n",
        "    words = text.split()\n",
        "    words = [word for word in words if word not in stopwords.words('english')]  # Remove stopwords\n",
        "    lemmatizer = WordNetLemmatizer()\n",
        "    words = [lemmatizer.lemmatize(word) for word in words]  # Lemmatization\n",
        "    return \" \".join(words)\n",
        "\n",
        "df[\"clean_text\"] = df[\"text\"].apply(clean_text)"
      ],
      "metadata": {
        "id": "JSwWuiXk-nmA"
      },
      "execution_count": 4,
      "outputs": []
    },
    {
      "cell_type": "code",
      "source": [
        "label_mapping = {\"Depression\": 0, \"Stress\": 1, \"Loneliness\": 2}\n",
        "df[\"label\"] = df[\"label\"].map(label_mapping)"
      ],
      "metadata": {
        "id": "Xa30SsK__HDP"
      },
      "execution_count": 5,
      "outputs": []
    },
    {
      "cell_type": "code",
      "source": [
        "from sklearn.model_selection import train_test_split\n",
        "\n",
        "X_train, X_test, y_train, y_test = train_test_split(df[\"clean_text\"], df[\"label\"], test_size=0.2, random_state=42, stratify=df[\"label\"])"
      ],
      "metadata": {
        "id": "a8NqGLIE_HAt"
      },
      "execution_count": 6,
      "outputs": []
    },
    {
      "cell_type": "code",
      "source": [
        "from sklearn.feature_extraction.text import TfidfVectorizer\n",
        "\n",
        "tfidf = TfidfVectorizer(max_features=5000, ngram_range=(1,2))\n",
        "X_train_tfidf = tfidf.fit_transform(X_train)\n",
        "X_test_tfidf = tfidf.transform(X_test)"
      ],
      "metadata": {
        "id": "DK9mSfZX_G-L"
      },
      "execution_count": 7,
      "outputs": []
    },
    {
      "cell_type": "code",
      "source": [
        "from sklearn.ensemble import VotingClassifier\n",
        "from sklearn.naive_bayes import MultinomialNB\n",
        "from sklearn.ensemble import RandomForestClassifier\n",
        "from sklearn.svm import SVC\n",
        "\n",
        "svm_model = SVC(kernel=\"linear\", C=1, probability=True)\n",
        "nb_model = MultinomialNB()\n",
        "rf_model = RandomForestClassifier(n_estimators=200, max_depth=10, random_state=42)\n",
        "\n",
        "ensemble = VotingClassifier(estimators=[\n",
        "    ('svm', svm_model),\n",
        "    ('nb', nb_model),\n",
        "    ('rf', rf_model)\n",
        "], voting='hard')\n",
        "\n"
      ],
      "metadata": {
        "id": "BYokbo8W5_vF"
      },
      "execution_count": 8,
      "outputs": []
    },
    {
      "cell_type": "code",
      "source": [
        "from sklearn.metrics import accuracy_score, classification_report, confusion_matrix\n",
        "\n",
        "ensemble.fit(X_train_tfidf, y_train)\n",
        "y_pred_ensemble = ensemble.predict(X_test_tfidf)\n",
        "\n",
        "print(\"\\nEnsemble Model Classification Report:\\n\", classification_report(y_test, y_pred_ensemble))\n",
        "print(\"Ensemble Accuracy:\", accuracy_score(y_test, y_pred_ensemble))"
      ],
      "metadata": {
        "colab": {
          "base_uri": "https://localhost:8080/"
        },
        "id": "JC-jRnO96B_r",
        "outputId": "74360bfb-42d5-4d51-e13f-f69925dd0c54"
      },
      "execution_count": 9,
      "outputs": [
        {
          "output_type": "stream",
          "name": "stdout",
          "text": [
            "\n",
            "Ensemble Model Classification Report:\n",
            "               precision    recall  f1-score   support\n",
            "\n",
            "           0       0.69      0.70      0.70        61\n",
            "           1       0.88      0.85      0.86        59\n",
            "           2       0.80      0.81      0.81        59\n",
            "\n",
            "    accuracy                           0.79       179\n",
            "   macro avg       0.79      0.79      0.79       179\n",
            "weighted avg       0.79      0.79      0.79       179\n",
            "\n",
            "Ensemble Accuracy: 0.7877094972067039\n"
          ]
        }
      ]
    },
    {
      "cell_type": "code",
      "source": [
        "test_texts = [\n",
        "    # Depression-related hate speech\n",
        "    \"I hate how I wake up every day knowing nothing will change.\",\n",
        "    \"No one gives a damn about me, and I’m tired of pretending otherwise.\",\n",
        "    \"Every single person in this college is fake, just like my own smile.\",\n",
        "    \"No matter what I do, I’m always the forgotten one in the background.\",\n",
        "    \"This place is just a constant reminder that I’ll never be good enough.\",\n",
        "    \"I’m done trying to fit in when all I get is rejection.\",\n",
        "    \"If I vanished today, this college would just keep moving like I never existed.\",\n",
        "    \"Everyone pretends to be so caring, but in the end, they leave just like the rest.\",\n",
        "    \"The only thing college has taught me is how to hate myself more efficiently.\",\n",
        "    \"I despise how people act like they’re my friend, only to push me away when I need them most.\",\n",
        "\n",
        "    # Stress-related hate speech\n",
        "    \"This college drains every ounce of energy and leaves nothing but anxiety.\",\n",
        "    \"I hate how I work my ass off, and all I get is stress and sleepless nights.\",\n",
        "    \"Professors act like we’re machines who can function without a break.\",\n",
        "    \"Everything about this place is designed to break students mentally.\",\n",
        "    \"Group projects are just a nightmare that make me hate people even more.\",\n",
        "    \"The pressure here is so suffocating, it feels like I’m drowning.\",\n",
        "    \"No matter how hard I work, there’s always another impossible deadline.\",\n",
        "    \"I hate how this college turns students into stressed-out zombies.\",\n",
        "    \"People here act like stress is a competition, and I’m sick of it.\",\n",
        "    \"I swear, if one more professor dumps another assignment on me, I’m going to lose it.\",\n",
        "\n",
        "    # Loneliness-related hate speech\n",
        "    \"I hate walking into a crowded room and realizing I have no one to sit with.\",\n",
        "    \"This college is just a giant popularity contest, and I was never even considered.\",\n",
        "    \"People only notice me when they need something; otherwise, I’m invisible.\",\n",
        "    \"No one even bothers to check in on me, and I hate them for it.\",\n",
        "    \"I sit alone every single day, watching everyone else form friendships so easily.\",\n",
        "    \"I hate how everyone has their group, and I’m just an outsider looking in.\",\n",
        "    \"The lonelier I feel, the more I resent every fake smile I see.\",\n",
        "    \"No one ever remembers my name, and honestly, I’ve stopped caring.\",\n",
        "    \"I could disappear right now, and not a single person here would notice.\",\n",
        "    \"This college makes it so easy to be surrounded by people and still feel completely alone.\"\n",
        "]\n",
        "\n",
        "test_labels = [\n",
        "    \"Depression\", \"Depression\", \"Depression\", \"Depression\", \"Depression\",\n",
        "    \"Depression\", \"Depression\", \"Depression\", \"Depression\", \"Depression\",\n",
        "\n",
        "    \"Stress\", \"Stress\", \"Stress\", \"Stress\", \"Stress\",\n",
        "    \"Stress\", \"Stress\", \"Stress\", \"Stress\", \"Stress\",\n",
        "\n",
        "    \"Loneliness\", \"Loneliness\", \"Loneliness\", \"Loneliness\", \"Loneliness\",\n",
        "    \"Loneliness\", \"Loneliness\", \"Loneliness\", \"Loneliness\", \"Loneliness\"\n",
        "]\n"
      ],
      "metadata": {
        "id": "xCXADUr6_3Ld"
      },
      "execution_count": 10,
      "outputs": []
    },
    {
      "cell_type": "code",
      "source": [
        "label_mapping = {0: \"Depression\", 1: \"Stress\", 2: \"Loneliness\"}\n",
        "\n",
        "X_test_transformed = tfidf.transform(test_texts).toarray()\n",
        "\n",
        "y_pred_test = ensemble.predict(X_test_transformed)\n",
        "y_pred_test_labels = [label_mapping[label] for label in y_pred_test]\n",
        "\n",
        "print(\"Confusion Matrix:\\n\", confusion_matrix(test_labels, y_pred_test_labels))\n",
        "print(\"\\nClassification Report:\\n\", classification_report(test_labels, y_pred_test_labels))\n",
        "print(\"\\nAccuracy:\", accuracy_score(test_labels, y_pred_test_labels))\n",
        "\n",
        "for i in range(len(test_texts)):\n",
        "    print(f\"\\nText: {test_texts[i]}\")\n",
        "    print(f\"Actual Label: {test_labels[i]}\")\n",
        "    print(f\"Predicted Label: {y_pred_test_labels[i]}\")\n",
        "    if test_labels[i] == y_pred_test_labels[i]:\n",
        "        print(\"✅ Correct Prediction\")\n",
        "    else:\n",
        "        print(\"❌ Incorrect Prediction\")\n"
      ],
      "metadata": {
        "colab": {
          "base_uri": "https://localhost:8080/"
        },
        "id": "Ufkc6XzHQVb-",
        "outputId": "61b8afd7-2af5-4e11-edc1-28a69c4ff400"
      },
      "execution_count": 11,
      "outputs": [
        {
          "output_type": "stream",
          "name": "stdout",
          "text": [
            "Confusion Matrix:\n",
            " [[ 6  4  0]\n",
            " [ 0 10  0]\n",
            " [ 0  1  9]]\n",
            "\n",
            "Classification Report:\n",
            "               precision    recall  f1-score   support\n",
            "\n",
            "  Depression       1.00      0.60      0.75        10\n",
            "  Loneliness       0.67      1.00      0.80        10\n",
            "      Stress       1.00      0.90      0.95        10\n",
            "\n",
            "    accuracy                           0.83        30\n",
            "   macro avg       0.89      0.83      0.83        30\n",
            "weighted avg       0.89      0.83      0.83        30\n",
            "\n",
            "\n",
            "Accuracy: 0.8333333333333334\n",
            "\n",
            "Text: I hate how I wake up every day knowing nothing will change.\n",
            "Actual Label: Depression\n",
            "Predicted Label: Depression\n",
            "✅ Correct Prediction\n",
            "\n",
            "Text: No one gives a damn about me, and I’m tired of pretending otherwise.\n",
            "Actual Label: Depression\n",
            "Predicted Label: Depression\n",
            "✅ Correct Prediction\n",
            "\n",
            "Text: Every single person in this college is fake, just like my own smile.\n",
            "Actual Label: Depression\n",
            "Predicted Label: Loneliness\n",
            "❌ Incorrect Prediction\n",
            "\n",
            "Text: No matter what I do, I’m always the forgotten one in the background.\n",
            "Actual Label: Depression\n",
            "Predicted Label: Depression\n",
            "✅ Correct Prediction\n",
            "\n",
            "Text: This place is just a constant reminder that I’ll never be good enough.\n",
            "Actual Label: Depression\n",
            "Predicted Label: Loneliness\n",
            "❌ Incorrect Prediction\n",
            "\n",
            "Text: I’m done trying to fit in when all I get is rejection.\n",
            "Actual Label: Depression\n",
            "Predicted Label: Loneliness\n",
            "❌ Incorrect Prediction\n",
            "\n",
            "Text: If I vanished today, this college would just keep moving like I never existed.\n",
            "Actual Label: Depression\n",
            "Predicted Label: Loneliness\n",
            "❌ Incorrect Prediction\n",
            "\n",
            "Text: Everyone pretends to be so caring, but in the end, they leave just like the rest.\n",
            "Actual Label: Depression\n",
            "Predicted Label: Depression\n",
            "✅ Correct Prediction\n",
            "\n",
            "Text: The only thing college has taught me is how to hate myself more efficiently.\n",
            "Actual Label: Depression\n",
            "Predicted Label: Depression\n",
            "✅ Correct Prediction\n",
            "\n",
            "Text: I despise how people act like they’re my friend, only to push me away when I need them most.\n",
            "Actual Label: Depression\n",
            "Predicted Label: Depression\n",
            "✅ Correct Prediction\n",
            "\n",
            "Text: This college drains every ounce of energy and leaves nothing but anxiety.\n",
            "Actual Label: Stress\n",
            "Predicted Label: Stress\n",
            "✅ Correct Prediction\n",
            "\n",
            "Text: I hate how I work my ass off, and all I get is stress and sleepless nights.\n",
            "Actual Label: Stress\n",
            "Predicted Label: Stress\n",
            "✅ Correct Prediction\n",
            "\n",
            "Text: Professors act like we’re machines who can function without a break.\n",
            "Actual Label: Stress\n",
            "Predicted Label: Stress\n",
            "✅ Correct Prediction\n",
            "\n",
            "Text: Everything about this place is designed to break students mentally.\n",
            "Actual Label: Stress\n",
            "Predicted Label: Stress\n",
            "✅ Correct Prediction\n",
            "\n",
            "Text: Group projects are just a nightmare that make me hate people even more.\n",
            "Actual Label: Stress\n",
            "Predicted Label: Loneliness\n",
            "❌ Incorrect Prediction\n",
            "\n",
            "Text: The pressure here is so suffocating, it feels like I’m drowning.\n",
            "Actual Label: Stress\n",
            "Predicted Label: Stress\n",
            "✅ Correct Prediction\n",
            "\n",
            "Text: No matter how hard I work, there’s always another impossible deadline.\n",
            "Actual Label: Stress\n",
            "Predicted Label: Stress\n",
            "✅ Correct Prediction\n",
            "\n",
            "Text: I hate how this college turns students into stressed-out zombies.\n",
            "Actual Label: Stress\n",
            "Predicted Label: Stress\n",
            "✅ Correct Prediction\n",
            "\n",
            "Text: People here act like stress is a competition, and I’m sick of it.\n",
            "Actual Label: Stress\n",
            "Predicted Label: Stress\n",
            "✅ Correct Prediction\n",
            "\n",
            "Text: I swear, if one more professor dumps another assignment on me, I’m going to lose it.\n",
            "Actual Label: Stress\n",
            "Predicted Label: Stress\n",
            "✅ Correct Prediction\n",
            "\n",
            "Text: I hate walking into a crowded room and realizing I have no one to sit with.\n",
            "Actual Label: Loneliness\n",
            "Predicted Label: Loneliness\n",
            "✅ Correct Prediction\n",
            "\n",
            "Text: This college is just a giant popularity contest, and I was never even considered.\n",
            "Actual Label: Loneliness\n",
            "Predicted Label: Loneliness\n",
            "✅ Correct Prediction\n",
            "\n",
            "Text: People only notice me when they need something; otherwise, I’m invisible.\n",
            "Actual Label: Loneliness\n",
            "Predicted Label: Loneliness\n",
            "✅ Correct Prediction\n",
            "\n",
            "Text: No one even bothers to check in on me, and I hate them for it.\n",
            "Actual Label: Loneliness\n",
            "Predicted Label: Loneliness\n",
            "✅ Correct Prediction\n",
            "\n",
            "Text: I sit alone every single day, watching everyone else form friendships so easily.\n",
            "Actual Label: Loneliness\n",
            "Predicted Label: Loneliness\n",
            "✅ Correct Prediction\n",
            "\n",
            "Text: I hate how everyone has their group, and I’m just an outsider looking in.\n",
            "Actual Label: Loneliness\n",
            "Predicted Label: Loneliness\n",
            "✅ Correct Prediction\n",
            "\n",
            "Text: The lonelier I feel, the more I resent every fake smile I see.\n",
            "Actual Label: Loneliness\n",
            "Predicted Label: Loneliness\n",
            "✅ Correct Prediction\n",
            "\n",
            "Text: No one ever remembers my name, and honestly, I’ve stopped caring.\n",
            "Actual Label: Loneliness\n",
            "Predicted Label: Loneliness\n",
            "✅ Correct Prediction\n",
            "\n",
            "Text: I could disappear right now, and not a single person here would notice.\n",
            "Actual Label: Loneliness\n",
            "Predicted Label: Loneliness\n",
            "✅ Correct Prediction\n",
            "\n",
            "Text: This college makes it so easy to be surrounded by people and still feel completely alone.\n",
            "Actual Label: Loneliness\n",
            "Predicted Label: Loneliness\n",
            "✅ Correct Prediction\n"
          ]
        }
      ]
    },
    {
      "cell_type": "code",
      "source": [],
      "metadata": {
        "id": "hClXmntcQsXg"
      },
      "execution_count": 11,
      "outputs": []
    }
  ]
}