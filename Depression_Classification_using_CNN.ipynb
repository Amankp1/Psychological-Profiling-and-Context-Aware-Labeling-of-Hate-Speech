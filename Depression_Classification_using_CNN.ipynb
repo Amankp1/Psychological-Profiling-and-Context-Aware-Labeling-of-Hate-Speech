{
  "nbformat": 4,
  "nbformat_minor": 0,
  "metadata": {
    "colab": {
      "provenance": [],
      "authorship_tag": "ABX9TyOEgMsJ6myEpkNFxFAb5hvb",
      "include_colab_link": true
    },
    "kernelspec": {
      "name": "python3",
      "display_name": "Python 3"
    },
    "language_info": {
      "name": "python"
    }
  },
  "cells": [
    {
      "cell_type": "markdown",
      "metadata": {
        "id": "view-in-github",
        "colab_type": "text"
      },
      "source": [
        "<a href=\"https://colab.research.google.com/github/Amankp1/Psychological-Profiling-and-Context-Aware-Labeling-of-Hate-Speech/blob/main/Depression_Classification_using_CNN.ipynb\" target=\"_parent\"><img src=\"https://colab.research.google.com/assets/colab-badge.svg\" alt=\"Open In Colab\"/></a>"
      ]
    },
    {
      "cell_type": "code",
      "execution_count": 22,
      "metadata": {
        "id": "QE4IuYr2erxI"
      },
      "outputs": [],
      "source": [
        "import numpy as np\n",
        "import tensorflow as tf\n",
        "from tensorflow.keras import layers, models, optimizers, callbacks\n",
        "from sklearn.metrics import classification_report, confusion_matrix, roc_auc_score\n",
        "from sklearn.preprocessing import StandardScaler\n",
        "import matplotlib.pyplot as plt\n",
        "import seaborn as sns\n",
        "import pandas as pd\n",
        "import os\n",
        "from imblearn.over_sampling import SMOTE\n",
        "from tensorflow.keras.regularizers import l2"
      ]
    },
    {
      "cell_type": "code",
      "source": [
        "import numpy as np\n",
        "base_path = '/content/depression_detection/'\n",
        "\n",
        "X_train = np.load(f'{base_path}X_train_agg.npy')\n",
        "y_train = np.load(f'{base_path}y_train_agg.npy')\n",
        "X_val = np.load(f'{base_path}X_val_agg.npy')\n",
        "y_val = np.load(f'{base_path}y_val_agg.npy')\n",
        "X_test = np.load(f'{base_path}X_test_agg.npy')\n",
        "y_test = np.load(f'{base_path}y_test_agg.npy')"
      ],
      "metadata": {
        "id": "WzjHxR3Je_wA"
      },
      "execution_count": 23,
      "outputs": []
    },
    {
      "cell_type": "code",
      "source": [
        "# Check for NaN values and handle them\n",
        "print(\"Checking for NaN values...\")\n",
        "print(f\"NaN values in X_train: {np.isnan(X_train).sum()}\")\n",
        "print(f\"NaN values in y_train: {np.isnan(y_train).sum()}\")\n",
        "print(f\"NaN values in X_val: {np.isnan(X_val).sum()}\")\n",
        "print(f\"NaN values in y_val: {np.isnan(y_val).sum()}\")\n",
        "print(f\"NaN values in X_test: {np.isnan(X_test).sum()}\")\n",
        "print(f\"NaN values in y_test: {np.isnan(y_test).sum()}\")\n",
        "\n",
        "# Remove samples with NaN labels\n",
        "if np.isnan(y_train).any():\n",
        "    valid_indices = ~np.isnan(y_train)\n",
        "    X_train = X_train[valid_indices]\n",
        "    y_train = y_train[valid_indices]\n",
        "\n",
        "if np.isnan(y_val).any():\n",
        "    valid_indices = ~np.isnan(y_val)\n",
        "    X_val = X_val[valid_indices]\n",
        "    y_val = y_val[valid_indices]\n",
        "\n",
        "if np.isnan(y_test).any():\n",
        "    valid_indices = ~np.isnan(y_test)\n",
        "    X_test = X_test[valid_indices]\n",
        "    y_test = y_test[valid_indices]\n",
        "\n",
        "# Replace NaN values in features with mean values\n",
        "if np.isnan(X_train).any():\n",
        "    mean_values = np.nanmean(X_train, axis=0)\n",
        "    for i in range(X_train.shape[1]):\n",
        "        mask = np.isnan(X_train[:, i])\n",
        "        X_train[mask, i] = mean_values[i]\n",
        "\n",
        "if np.isnan(X_val).any():\n",
        "    mean_values = np.nanmean(X_val, axis=0)\n",
        "    for i in range(X_val.shape[1]):\n",
        "        mask = np.isnan(X_val[:, i])\n",
        "        X_val[mask, i] = mean_values[i]\n",
        "\n",
        "if np.isnan(X_test).any():\n",
        "    mean_values = np.nanmean(X_test, axis=0)\n",
        "    for i in range(X_test.shape[1]):\n",
        "        mask = np.isnan(X_test[:, i])\n",
        "        X_test[mask, i] = mean_values[i]\n",
        "\n",
        "# Print the shapes of the data\n",
        "print(\"Data shapes after cleaning:\")\n",
        "print(f\"X_train shape: {X_train.shape}\")\n",
        "print(f\"y_train shape: {y_train.shape}\")\n",
        "print(f\"X_val shape: {X_val.shape}\")\n",
        "print(f\"y_val shape: {y_val.shape}\")\n",
        "print(f\"X_test shape: {X_test.shape}\")\n",
        "print(f\"y_test shape: {y_test.shape}\")\n",
        "\n",
        "# Class distribution\n",
        "print(\"\\nClass distribution:\")\n",
        "print(f\"Train: {np.bincount(y_train.astype(int))}\")\n",
        "print(f\"Validation: {np.bincount(y_val.astype(int))}\")\n",
        "print(f\"Test: {np.bincount(y_test.astype(int))}\")"
      ],
      "metadata": {
        "colab": {
          "base_uri": "https://localhost:8080/"
        },
        "id": "apqlfp2ZfFoJ",
        "outputId": "3c58488d-deec-42d0-f7ed-3ccdf148b316"
      },
      "execution_count": 24,
      "outputs": [
        {
          "output_type": "stream",
          "name": "stdout",
          "text": [
            "Checking for NaN values...\n",
            "NaN values in X_train: 0\n",
            "NaN values in y_train: 0\n",
            "NaN values in X_val: 0\n",
            "NaN values in y_val: 0\n",
            "NaN values in X_test: 0\n",
            "NaN values in y_test: 0\n",
            "Data shapes after cleaning:\n",
            "X_train shape: (188, 152)\n",
            "y_train shape: (188,)\n",
            "X_val shape: (179, 152)\n",
            "y_val shape: (179,)\n",
            "X_test shape: (178, 152)\n",
            "y_test shape: (178,)\n",
            "\n",
            "Class distribution:\n",
            "Train: [132  56]\n",
            "Validation: [126  53]\n",
            "Test: [124  54]\n"
          ]
        }
      ]
    },
    {
      "cell_type": "code",
      "source": [
        "# Feature standardization\n",
        "scaler = StandardScaler()\n",
        "X_train_scaled = scaler.fit_transform(X_train)\n",
        "X_val_scaled = scaler.transform(X_val)\n",
        "X_test_scaled = scaler.transform(X_test)\n",
        "\n",
        "# Handle class imbalance using SMOTE\n",
        "print(\"\\nApplying SMOTE to handle class imbalance...\")\n",
        "smote = SMOTE(random_state=42)\n",
        "X_train_resampled, y_train_resampled = smote.fit_resample(X_train_scaled, y_train)\n",
        "\n",
        "print(\"Class distribution after SMOTE:\")\n",
        "print(f\"Train: {np.bincount(y_train_resampled.astype(int))}\")\n",
        "\n",
        "# Reshape data for CNN input (add channel dimension)\n",
        "X_train_cnn = X_train_resampled.reshape(X_train_resampled.shape[0], X_train_resampled.shape[1], 1)\n",
        "X_val_cnn = X_val_scaled.reshape(X_val_scaled.shape[0], X_val_scaled.shape[1], 1)\n",
        "X_test_cnn = X_test_scaled.reshape(X_test_scaled.shape[0], X_test_scaled.shape[1], 1)\n",
        "\n",
        "print(f\"CNN input shapes:\")\n",
        "print(f\"X_train_cnn: {X_train_cnn.shape}\")\n",
        "print(f\"X_val_cnn: {X_val_cnn.shape}\")\n",
        "print(f\"X_test_cnn: {X_test_cnn.shape}\")"
      ],
      "metadata": {
        "colab": {
          "base_uri": "https://localhost:8080/"
        },
        "id": "l7eBhaoIfHKA",
        "outputId": "1fe20997-6fa9-4802-d185-b5d9628a9bf3"
      },
      "execution_count": 25,
      "outputs": [
        {
          "output_type": "stream",
          "name": "stdout",
          "text": [
            "\n",
            "Applying SMOTE to handle class imbalance...\n",
            "Class distribution after SMOTE:\n",
            "Train: [132 132]\n",
            "CNN input shapes:\n",
            "X_train_cnn: (264, 152, 1)\n",
            "X_val_cnn: (179, 152, 1)\n",
            "X_test_cnn: (178, 152, 1)\n"
          ]
        }
      ]
    },
    {
      "cell_type": "code",
      "source": [
        "# Define a function to create the CNN model\n",
        "def create_cnn_model(input_shape, dropout_rate=0.5, l2_reg=0.001):\n",
        "    model = models.Sequential()\n",
        "\n",
        "    # First convolutional block\n",
        "    model.add(layers.Conv1D(64, kernel_size=3, activation='relu', padding='same',\n",
        "                           input_shape=input_shape, kernel_regularizer=l2(l2_reg)))\n",
        "    model.add(layers.BatchNormalization())\n",
        "    model.add(layers.MaxPooling1D(pool_size=2))\n",
        "    model.add(layers.Dropout(dropout_rate/2))\n",
        "\n",
        "    # Second convolutional block\n",
        "    model.add(layers.Conv1D(128, kernel_size=3, activation='relu', padding='same',\n",
        "                           kernel_regularizer=l2(l2_reg)))\n",
        "    model.add(layers.BatchNormalization())\n",
        "    model.add(layers.MaxPooling1D(pool_size=2))\n",
        "    model.add(layers.Dropout(dropout_rate/2))\n",
        "\n",
        "    # Third convolutional block\n",
        "    model.add(layers.Conv1D(256, kernel_size=3, activation='relu', padding='same',\n",
        "                           kernel_regularizer=l2(l2_reg)))\n",
        "    model.add(layers.BatchNormalization())\n",
        "    model.add(layers.GlobalAveragePooling1D())\n",
        "\n",
        "    # Fully connected layers\n",
        "    model.add(layers.Dense(128, activation='relu', kernel_regularizer=l2(l2_reg)))\n",
        "    model.add(layers.BatchNormalization())\n",
        "    model.add(layers.Dropout(dropout_rate))\n",
        "\n",
        "    model.add(layers.Dense(64, activation='relu', kernel_regularizer=l2(l2_reg)))\n",
        "    model.add(layers.BatchNormalization())\n",
        "    model.add(layers.Dropout(dropout_rate))\n",
        "\n",
        "    # Output layer\n",
        "    model.add(layers.Dense(1, activation='sigmoid'))\n",
        "\n",
        "    return model\n",
        "\n",
        "# Create the CNN model\n",
        "input_shape = (X_train_cnn.shape[1], 1)\n",
        "model = create_cnn_model(input_shape)\n",
        "\n",
        "# Compile the model\n",
        "model.compile(\n",
        "    optimizer=optimizers.Adam(learning_rate=0.001),\n",
        "    loss='binary_crossentropy',\n",
        "    metrics=['accuracy', tf.keras.metrics.AUC(name='auc')]\n",
        ")\n",
        "\n",
        "# Model summary\n",
        "model.summary()"
      ],
      "metadata": {
        "colab": {
          "base_uri": "https://localhost:8080/",
          "height": 878
        },
        "id": "eL-XgHJtfIg4",
        "outputId": "1dc32ad9-ccb7-4a02-d284-c04f0254b8d3"
      },
      "execution_count": 26,
      "outputs": [
        {
          "output_type": "stream",
          "name": "stderr",
          "text": [
            "/usr/local/lib/python3.11/dist-packages/keras/src/layers/convolutional/base_conv.py:107: UserWarning: Do not pass an `input_shape`/`input_dim` argument to a layer. When using Sequential models, prefer using an `Input(shape)` object as the first layer in the model instead.\n",
            "  super().__init__(activity_regularizer=activity_regularizer, **kwargs)\n"
          ]
        },
        {
          "output_type": "display_data",
          "data": {
            "text/plain": [
              "\u001b[1mModel: \"sequential_2\"\u001b[0m\n"
            ],
            "text/html": [
              "<pre style=\"white-space:pre;overflow-x:auto;line-height:normal;font-family:Menlo,'DejaVu Sans Mono',consolas,'Courier New',monospace\"><span style=\"font-weight: bold\">Model: \"sequential_2\"</span>\n",
              "</pre>\n"
            ]
          },
          "metadata": {}
        },
        {
          "output_type": "display_data",
          "data": {
            "text/plain": [
              "┏━━━━━━━━━━━━━━━━━━━━━━━━━━━━━━━━━━━━━━┳━━━━━━━━━━━━━━━━━━━━━━━━━━━━━┳━━━━━━━━━━━━━━━━━┓\n",
              "┃\u001b[1m \u001b[0m\u001b[1mLayer (type)                        \u001b[0m\u001b[1m \u001b[0m┃\u001b[1m \u001b[0m\u001b[1mOutput Shape               \u001b[0m\u001b[1m \u001b[0m┃\u001b[1m \u001b[0m\u001b[1m        Param #\u001b[0m\u001b[1m \u001b[0m┃\n",
              "┡━━━━━━━━━━━━━━━━━━━━━━━━━━━━━━━━━━━━━━╇━━━━━━━━━━━━━━━━━━━━━━━━━━━━━╇━━━━━━━━━━━━━━━━━┩\n",
              "│ conv1d_6 (\u001b[38;5;33mConv1D\u001b[0m)                    │ (\u001b[38;5;45mNone\u001b[0m, \u001b[38;5;34m152\u001b[0m, \u001b[38;5;34m64\u001b[0m)             │             \u001b[38;5;34m256\u001b[0m │\n",
              "├──────────────────────────────────────┼─────────────────────────────┼─────────────────┤\n",
              "│ batch_normalization_10               │ (\u001b[38;5;45mNone\u001b[0m, \u001b[38;5;34m152\u001b[0m, \u001b[38;5;34m64\u001b[0m)             │             \u001b[38;5;34m256\u001b[0m │\n",
              "│ (\u001b[38;5;33mBatchNormalization\u001b[0m)                 │                             │                 │\n",
              "├──────────────────────────────────────┼─────────────────────────────┼─────────────────┤\n",
              "│ max_pooling1d_4 (\u001b[38;5;33mMaxPooling1D\u001b[0m)       │ (\u001b[38;5;45mNone\u001b[0m, \u001b[38;5;34m76\u001b[0m, \u001b[38;5;34m64\u001b[0m)              │               \u001b[38;5;34m0\u001b[0m │\n",
              "├──────────────────────────────────────┼─────────────────────────────┼─────────────────┤\n",
              "│ dropout_8 (\u001b[38;5;33mDropout\u001b[0m)                  │ (\u001b[38;5;45mNone\u001b[0m, \u001b[38;5;34m76\u001b[0m, \u001b[38;5;34m64\u001b[0m)              │               \u001b[38;5;34m0\u001b[0m │\n",
              "├──────────────────────────────────────┼─────────────────────────────┼─────────────────┤\n",
              "│ conv1d_7 (\u001b[38;5;33mConv1D\u001b[0m)                    │ (\u001b[38;5;45mNone\u001b[0m, \u001b[38;5;34m76\u001b[0m, \u001b[38;5;34m128\u001b[0m)             │          \u001b[38;5;34m24,704\u001b[0m │\n",
              "├──────────────────────────────────────┼─────────────────────────────┼─────────────────┤\n",
              "│ batch_normalization_11               │ (\u001b[38;5;45mNone\u001b[0m, \u001b[38;5;34m76\u001b[0m, \u001b[38;5;34m128\u001b[0m)             │             \u001b[38;5;34m512\u001b[0m │\n",
              "│ (\u001b[38;5;33mBatchNormalization\u001b[0m)                 │                             │                 │\n",
              "├──────────────────────────────────────┼─────────────────────────────┼─────────────────┤\n",
              "│ max_pooling1d_5 (\u001b[38;5;33mMaxPooling1D\u001b[0m)       │ (\u001b[38;5;45mNone\u001b[0m, \u001b[38;5;34m38\u001b[0m, \u001b[38;5;34m128\u001b[0m)             │               \u001b[38;5;34m0\u001b[0m │\n",
              "├──────────────────────────────────────┼─────────────────────────────┼─────────────────┤\n",
              "│ dropout_9 (\u001b[38;5;33mDropout\u001b[0m)                  │ (\u001b[38;5;45mNone\u001b[0m, \u001b[38;5;34m38\u001b[0m, \u001b[38;5;34m128\u001b[0m)             │               \u001b[38;5;34m0\u001b[0m │\n",
              "├──────────────────────────────────────┼─────────────────────────────┼─────────────────┤\n",
              "│ conv1d_8 (\u001b[38;5;33mConv1D\u001b[0m)                    │ (\u001b[38;5;45mNone\u001b[0m, \u001b[38;5;34m38\u001b[0m, \u001b[38;5;34m256\u001b[0m)             │          \u001b[38;5;34m98,560\u001b[0m │\n",
              "├──────────────────────────────────────┼─────────────────────────────┼─────────────────┤\n",
              "│ batch_normalization_12               │ (\u001b[38;5;45mNone\u001b[0m, \u001b[38;5;34m38\u001b[0m, \u001b[38;5;34m256\u001b[0m)             │           \u001b[38;5;34m1,024\u001b[0m │\n",
              "│ (\u001b[38;5;33mBatchNormalization\u001b[0m)                 │                             │                 │\n",
              "├──────────────────────────────────────┼─────────────────────────────┼─────────────────┤\n",
              "│ global_average_pooling1d_2           │ (\u001b[38;5;45mNone\u001b[0m, \u001b[38;5;34m256\u001b[0m)                 │               \u001b[38;5;34m0\u001b[0m │\n",
              "│ (\u001b[38;5;33mGlobalAveragePooling1D\u001b[0m)             │                             │                 │\n",
              "├──────────────────────────────────────┼─────────────────────────────┼─────────────────┤\n",
              "│ dense_6 (\u001b[38;5;33mDense\u001b[0m)                      │ (\u001b[38;5;45mNone\u001b[0m, \u001b[38;5;34m128\u001b[0m)                 │          \u001b[38;5;34m32,896\u001b[0m │\n",
              "├──────────────────────────────────────┼─────────────────────────────┼─────────────────┤\n",
              "│ batch_normalization_13               │ (\u001b[38;5;45mNone\u001b[0m, \u001b[38;5;34m128\u001b[0m)                 │             \u001b[38;5;34m512\u001b[0m │\n",
              "│ (\u001b[38;5;33mBatchNormalization\u001b[0m)                 │                             │                 │\n",
              "├──────────────────────────────────────┼─────────────────────────────┼─────────────────┤\n",
              "│ dropout_10 (\u001b[38;5;33mDropout\u001b[0m)                 │ (\u001b[38;5;45mNone\u001b[0m, \u001b[38;5;34m128\u001b[0m)                 │               \u001b[38;5;34m0\u001b[0m │\n",
              "├──────────────────────────────────────┼─────────────────────────────┼─────────────────┤\n",
              "│ dense_7 (\u001b[38;5;33mDense\u001b[0m)                      │ (\u001b[38;5;45mNone\u001b[0m, \u001b[38;5;34m64\u001b[0m)                  │           \u001b[38;5;34m8,256\u001b[0m │\n",
              "├──────────────────────────────────────┼─────────────────────────────┼─────────────────┤\n",
              "│ batch_normalization_14               │ (\u001b[38;5;45mNone\u001b[0m, \u001b[38;5;34m64\u001b[0m)                  │             \u001b[38;5;34m256\u001b[0m │\n",
              "│ (\u001b[38;5;33mBatchNormalization\u001b[0m)                 │                             │                 │\n",
              "├──────────────────────────────────────┼─────────────────────────────┼─────────────────┤\n",
              "│ dropout_11 (\u001b[38;5;33mDropout\u001b[0m)                 │ (\u001b[38;5;45mNone\u001b[0m, \u001b[38;5;34m64\u001b[0m)                  │               \u001b[38;5;34m0\u001b[0m │\n",
              "├──────────────────────────────────────┼─────────────────────────────┼─────────────────┤\n",
              "│ dense_8 (\u001b[38;5;33mDense\u001b[0m)                      │ (\u001b[38;5;45mNone\u001b[0m, \u001b[38;5;34m1\u001b[0m)                   │              \u001b[38;5;34m65\u001b[0m │\n",
              "└──────────────────────────────────────┴─────────────────────────────┴─────────────────┘\n"
            ],
            "text/html": [
              "<pre style=\"white-space:pre;overflow-x:auto;line-height:normal;font-family:Menlo,'DejaVu Sans Mono',consolas,'Courier New',monospace\">┏━━━━━━━━━━━━━━━━━━━━━━━━━━━━━━━━━━━━━━┳━━━━━━━━━━━━━━━━━━━━━━━━━━━━━┳━━━━━━━━━━━━━━━━━┓\n",
              "┃<span style=\"font-weight: bold\"> Layer (type)                         </span>┃<span style=\"font-weight: bold\"> Output Shape                </span>┃<span style=\"font-weight: bold\">         Param # </span>┃\n",
              "┡━━━━━━━━━━━━━━━━━━━━━━━━━━━━━━━━━━━━━━╇━━━━━━━━━━━━━━━━━━━━━━━━━━━━━╇━━━━━━━━━━━━━━━━━┩\n",
              "│ conv1d_6 (<span style=\"color: #0087ff; text-decoration-color: #0087ff\">Conv1D</span>)                    │ (<span style=\"color: #00d7ff; text-decoration-color: #00d7ff\">None</span>, <span style=\"color: #00af00; text-decoration-color: #00af00\">152</span>, <span style=\"color: #00af00; text-decoration-color: #00af00\">64</span>)             │             <span style=\"color: #00af00; text-decoration-color: #00af00\">256</span> │\n",
              "├──────────────────────────────────────┼─────────────────────────────┼─────────────────┤\n",
              "│ batch_normalization_10               │ (<span style=\"color: #00d7ff; text-decoration-color: #00d7ff\">None</span>, <span style=\"color: #00af00; text-decoration-color: #00af00\">152</span>, <span style=\"color: #00af00; text-decoration-color: #00af00\">64</span>)             │             <span style=\"color: #00af00; text-decoration-color: #00af00\">256</span> │\n",
              "│ (<span style=\"color: #0087ff; text-decoration-color: #0087ff\">BatchNormalization</span>)                 │                             │                 │\n",
              "├──────────────────────────────────────┼─────────────────────────────┼─────────────────┤\n",
              "│ max_pooling1d_4 (<span style=\"color: #0087ff; text-decoration-color: #0087ff\">MaxPooling1D</span>)       │ (<span style=\"color: #00d7ff; text-decoration-color: #00d7ff\">None</span>, <span style=\"color: #00af00; text-decoration-color: #00af00\">76</span>, <span style=\"color: #00af00; text-decoration-color: #00af00\">64</span>)              │               <span style=\"color: #00af00; text-decoration-color: #00af00\">0</span> │\n",
              "├──────────────────────────────────────┼─────────────────────────────┼─────────────────┤\n",
              "│ dropout_8 (<span style=\"color: #0087ff; text-decoration-color: #0087ff\">Dropout</span>)                  │ (<span style=\"color: #00d7ff; text-decoration-color: #00d7ff\">None</span>, <span style=\"color: #00af00; text-decoration-color: #00af00\">76</span>, <span style=\"color: #00af00; text-decoration-color: #00af00\">64</span>)              │               <span style=\"color: #00af00; text-decoration-color: #00af00\">0</span> │\n",
              "├──────────────────────────────────────┼─────────────────────────────┼─────────────────┤\n",
              "│ conv1d_7 (<span style=\"color: #0087ff; text-decoration-color: #0087ff\">Conv1D</span>)                    │ (<span style=\"color: #00d7ff; text-decoration-color: #00d7ff\">None</span>, <span style=\"color: #00af00; text-decoration-color: #00af00\">76</span>, <span style=\"color: #00af00; text-decoration-color: #00af00\">128</span>)             │          <span style=\"color: #00af00; text-decoration-color: #00af00\">24,704</span> │\n",
              "├──────────────────────────────────────┼─────────────────────────────┼─────────────────┤\n",
              "│ batch_normalization_11               │ (<span style=\"color: #00d7ff; text-decoration-color: #00d7ff\">None</span>, <span style=\"color: #00af00; text-decoration-color: #00af00\">76</span>, <span style=\"color: #00af00; text-decoration-color: #00af00\">128</span>)             │             <span style=\"color: #00af00; text-decoration-color: #00af00\">512</span> │\n",
              "│ (<span style=\"color: #0087ff; text-decoration-color: #0087ff\">BatchNormalization</span>)                 │                             │                 │\n",
              "├──────────────────────────────────────┼─────────────────────────────┼─────────────────┤\n",
              "│ max_pooling1d_5 (<span style=\"color: #0087ff; text-decoration-color: #0087ff\">MaxPooling1D</span>)       │ (<span style=\"color: #00d7ff; text-decoration-color: #00d7ff\">None</span>, <span style=\"color: #00af00; text-decoration-color: #00af00\">38</span>, <span style=\"color: #00af00; text-decoration-color: #00af00\">128</span>)             │               <span style=\"color: #00af00; text-decoration-color: #00af00\">0</span> │\n",
              "├──────────────────────────────────────┼─────────────────────────────┼─────────────────┤\n",
              "│ dropout_9 (<span style=\"color: #0087ff; text-decoration-color: #0087ff\">Dropout</span>)                  │ (<span style=\"color: #00d7ff; text-decoration-color: #00d7ff\">None</span>, <span style=\"color: #00af00; text-decoration-color: #00af00\">38</span>, <span style=\"color: #00af00; text-decoration-color: #00af00\">128</span>)             │               <span style=\"color: #00af00; text-decoration-color: #00af00\">0</span> │\n",
              "├──────────────────────────────────────┼─────────────────────────────┼─────────────────┤\n",
              "│ conv1d_8 (<span style=\"color: #0087ff; text-decoration-color: #0087ff\">Conv1D</span>)                    │ (<span style=\"color: #00d7ff; text-decoration-color: #00d7ff\">None</span>, <span style=\"color: #00af00; text-decoration-color: #00af00\">38</span>, <span style=\"color: #00af00; text-decoration-color: #00af00\">256</span>)             │          <span style=\"color: #00af00; text-decoration-color: #00af00\">98,560</span> │\n",
              "├──────────────────────────────────────┼─────────────────────────────┼─────────────────┤\n",
              "│ batch_normalization_12               │ (<span style=\"color: #00d7ff; text-decoration-color: #00d7ff\">None</span>, <span style=\"color: #00af00; text-decoration-color: #00af00\">38</span>, <span style=\"color: #00af00; text-decoration-color: #00af00\">256</span>)             │           <span style=\"color: #00af00; text-decoration-color: #00af00\">1,024</span> │\n",
              "│ (<span style=\"color: #0087ff; text-decoration-color: #0087ff\">BatchNormalization</span>)                 │                             │                 │\n",
              "├──────────────────────────────────────┼─────────────────────────────┼─────────────────┤\n",
              "│ global_average_pooling1d_2           │ (<span style=\"color: #00d7ff; text-decoration-color: #00d7ff\">None</span>, <span style=\"color: #00af00; text-decoration-color: #00af00\">256</span>)                 │               <span style=\"color: #00af00; text-decoration-color: #00af00\">0</span> │\n",
              "│ (<span style=\"color: #0087ff; text-decoration-color: #0087ff\">GlobalAveragePooling1D</span>)             │                             │                 │\n",
              "├──────────────────────────────────────┼─────────────────────────────┼─────────────────┤\n",
              "│ dense_6 (<span style=\"color: #0087ff; text-decoration-color: #0087ff\">Dense</span>)                      │ (<span style=\"color: #00d7ff; text-decoration-color: #00d7ff\">None</span>, <span style=\"color: #00af00; text-decoration-color: #00af00\">128</span>)                 │          <span style=\"color: #00af00; text-decoration-color: #00af00\">32,896</span> │\n",
              "├──────────────────────────────────────┼─────────────────────────────┼─────────────────┤\n",
              "│ batch_normalization_13               │ (<span style=\"color: #00d7ff; text-decoration-color: #00d7ff\">None</span>, <span style=\"color: #00af00; text-decoration-color: #00af00\">128</span>)                 │             <span style=\"color: #00af00; text-decoration-color: #00af00\">512</span> │\n",
              "│ (<span style=\"color: #0087ff; text-decoration-color: #0087ff\">BatchNormalization</span>)                 │                             │                 │\n",
              "├──────────────────────────────────────┼─────────────────────────────┼─────────────────┤\n",
              "│ dropout_10 (<span style=\"color: #0087ff; text-decoration-color: #0087ff\">Dropout</span>)                 │ (<span style=\"color: #00d7ff; text-decoration-color: #00d7ff\">None</span>, <span style=\"color: #00af00; text-decoration-color: #00af00\">128</span>)                 │               <span style=\"color: #00af00; text-decoration-color: #00af00\">0</span> │\n",
              "├──────────────────────────────────────┼─────────────────────────────┼─────────────────┤\n",
              "│ dense_7 (<span style=\"color: #0087ff; text-decoration-color: #0087ff\">Dense</span>)                      │ (<span style=\"color: #00d7ff; text-decoration-color: #00d7ff\">None</span>, <span style=\"color: #00af00; text-decoration-color: #00af00\">64</span>)                  │           <span style=\"color: #00af00; text-decoration-color: #00af00\">8,256</span> │\n",
              "├──────────────────────────────────────┼─────────────────────────────┼─────────────────┤\n",
              "│ batch_normalization_14               │ (<span style=\"color: #00d7ff; text-decoration-color: #00d7ff\">None</span>, <span style=\"color: #00af00; text-decoration-color: #00af00\">64</span>)                  │             <span style=\"color: #00af00; text-decoration-color: #00af00\">256</span> │\n",
              "│ (<span style=\"color: #0087ff; text-decoration-color: #0087ff\">BatchNormalization</span>)                 │                             │                 │\n",
              "├──────────────────────────────────────┼─────────────────────────────┼─────────────────┤\n",
              "│ dropout_11 (<span style=\"color: #0087ff; text-decoration-color: #0087ff\">Dropout</span>)                 │ (<span style=\"color: #00d7ff; text-decoration-color: #00d7ff\">None</span>, <span style=\"color: #00af00; text-decoration-color: #00af00\">64</span>)                  │               <span style=\"color: #00af00; text-decoration-color: #00af00\">0</span> │\n",
              "├──────────────────────────────────────┼─────────────────────────────┼─────────────────┤\n",
              "│ dense_8 (<span style=\"color: #0087ff; text-decoration-color: #0087ff\">Dense</span>)                      │ (<span style=\"color: #00d7ff; text-decoration-color: #00d7ff\">None</span>, <span style=\"color: #00af00; text-decoration-color: #00af00\">1</span>)                   │              <span style=\"color: #00af00; text-decoration-color: #00af00\">65</span> │\n",
              "└──────────────────────────────────────┴─────────────────────────────┴─────────────────┘\n",
              "</pre>\n"
            ]
          },
          "metadata": {}
        },
        {
          "output_type": "display_data",
          "data": {
            "text/plain": [
              "\u001b[1m Total params: \u001b[0m\u001b[38;5;34m167,297\u001b[0m (653.50 KB)\n"
            ],
            "text/html": [
              "<pre style=\"white-space:pre;overflow-x:auto;line-height:normal;font-family:Menlo,'DejaVu Sans Mono',consolas,'Courier New',monospace\"><span style=\"font-weight: bold\"> Total params: </span><span style=\"color: #00af00; text-decoration-color: #00af00\">167,297</span> (653.50 KB)\n",
              "</pre>\n"
            ]
          },
          "metadata": {}
        },
        {
          "output_type": "display_data",
          "data": {
            "text/plain": [
              "\u001b[1m Trainable params: \u001b[0m\u001b[38;5;34m166,017\u001b[0m (648.50 KB)\n"
            ],
            "text/html": [
              "<pre style=\"white-space:pre;overflow-x:auto;line-height:normal;font-family:Menlo,'DejaVu Sans Mono',consolas,'Courier New',monospace\"><span style=\"font-weight: bold\"> Trainable params: </span><span style=\"color: #00af00; text-decoration-color: #00af00\">166,017</span> (648.50 KB)\n",
              "</pre>\n"
            ]
          },
          "metadata": {}
        },
        {
          "output_type": "display_data",
          "data": {
            "text/plain": [
              "\u001b[1m Non-trainable params: \u001b[0m\u001b[38;5;34m1,280\u001b[0m (5.00 KB)\n"
            ],
            "text/html": [
              "<pre style=\"white-space:pre;overflow-x:auto;line-height:normal;font-family:Menlo,'DejaVu Sans Mono',consolas,'Courier New',monospace\"><span style=\"font-weight: bold\"> Non-trainable params: </span><span style=\"color: #00af00; text-decoration-color: #00af00\">1,280</span> (5.00 KB)\n",
              "</pre>\n"
            ]
          },
          "metadata": {}
        }
      ]
    },
    {
      "cell_type": "code",
      "source": [
        "# Define callbacks\n",
        "checkpoint_path = os.path.join(base_path, 'best_model.h5')\n",
        "callbacks_list = [\n",
        "    callbacks.EarlyStopping(\n",
        "        monitor='val_auc',\n",
        "        patience=20,\n",
        "        verbose=1,\n",
        "        restore_best_weights=True,\n",
        "        mode='max'\n",
        "    ),\n",
        "    callbacks.ModelCheckpoint(\n",
        "        filepath=checkpoint_path,\n",
        "        monitor='val_auc',\n",
        "        save_best_only=True,\n",
        "        verbose=1,\n",
        "        mode='max'\n",
        "    ),\n",
        "    callbacks.ReduceLROnPlateau(\n",
        "        monitor='val_loss',\n",
        "        factor=0.5,\n",
        "        patience=5,\n",
        "        min_lr=0.00001,\n",
        "        verbose=1\n",
        "    )\n",
        "]"
      ],
      "metadata": {
        "id": "TIecVnhkfJxI"
      },
      "execution_count": 27,
      "outputs": []
    },
    {
      "cell_type": "code",
      "source": [
        "# Train the model\n",
        "print(\"\\nTraining the model...\")\n",
        "history = model.fit(\n",
        "    X_train_cnn,\n",
        "    y_train_resampled,\n",
        "    epochs=100,\n",
        "    batch_size=16,\n",
        "    validation_data=(X_val_cnn, y_val),\n",
        "    callbacks=callbacks_list,\n",
        "    verbose=1\n",
        ")\n",
        "\n",
        "# Load the best model\n",
        "model = models.load_model(checkpoint_path)"
      ],
      "metadata": {
        "colab": {
          "base_uri": "https://localhost:8080/"
        },
        "id": "NO0fMR-ofLZ3",
        "outputId": "d64169f0-63da-4b27-ad08-5e19aa17370f"
      },
      "execution_count": 28,
      "outputs": [
        {
          "output_type": "stream",
          "name": "stdout",
          "text": [
            "\n",
            "Training the model...\n",
            "Epoch 1/100\n",
            "\u001b[1m17/17\u001b[0m \u001b[32m━━━━━━━━━━━━━━━━━━━━\u001b[0m\u001b[37m\u001b[0m \u001b[1m0s\u001b[0m 268ms/step - accuracy: 0.6207 - auc: 0.6300 - loss: 1.3425\n",
            "Epoch 1: val_auc improved from -inf to 0.51400, saving model to /content/depression_detection/best_model.h5\n"
          ]
        },
        {
          "output_type": "stream",
          "name": "stderr",
          "text": [
            "WARNING:absl:You are saving your model as an HDF5 file via `model.save()` or `keras.saving.save_model(model)`. This file format is considered legacy. We recommend using instead the native Keras format, e.g. `model.save('my_model.keras')` or `keras.saving.save_model(model, 'my_model.keras')`. \n"
          ]
        },
        {
          "output_type": "stream",
          "name": "stdout",
          "text": [
            "\b\b\b\b\b\b\b\b\b\b\b\b\b\b\b\b\b\b\b\b\b\b\b\b\b\b\b\b\b\b\b\b\b\b\b\b\b\b\b\b\b\b\b\b\b\b\b\b\b\b\b\b\b\b\b\b\b\b\b\b\b\b\b\b\b\b\b\b\b\b\b\b\b\b\b\b\b\b\b\b\b\b\b\b\b\b\b\b\r\u001b[1m17/17\u001b[0m \u001b[32m━━━━━━━━━━━━━━━━━━━━\u001b[0m\u001b[37m\u001b[0m \u001b[1m20s\u001b[0m 368ms/step - accuracy: 0.6188 - auc: 0.6292 - loss: 1.3448 - val_accuracy: 0.7039 - val_auc: 0.5140 - val_loss: 1.1699 - learning_rate: 0.0010\n",
            "Epoch 2/100\n",
            "\u001b[1m14/17\u001b[0m \u001b[32m━━━━━━━━━━━━━━━━\u001b[0m\u001b[37m━━━━\u001b[0m \u001b[1m0s\u001b[0m 4ms/step - accuracy: 0.5234 - auc: 0.5414 - loss: 1.5682 \n",
            "Epoch 2: val_auc improved from 0.51400 to 0.54268, saving model to /content/depression_detection/best_model.h5\n"
          ]
        },
        {
          "output_type": "stream",
          "name": "stderr",
          "text": [
            "WARNING:absl:You are saving your model as an HDF5 file via `model.save()` or `keras.saving.save_model(model)`. This file format is considered legacy. We recommend using instead the native Keras format, e.g. `model.save('my_model.keras')` or `keras.saving.save_model(model, 'my_model.keras')`. \n"
          ]
        },
        {
          "output_type": "stream",
          "name": "stdout",
          "text": [
            "\b\b\b\b\b\b\b\b\b\b\b\b\b\b\b\b\b\b\b\b\b\b\b\b\b\b\b\b\b\b\b\b\b\b\b\b\b\b\b\b\b\b\b\b\b\b\b\b\b\b\b\b\b\b\b\b\b\b\b\b\b\b\b\b\b\b\b\b\b\b\b\b\b\b\b\b\b\b\b\b\b\b\b\b\b\b\r\u001b[1m17/17\u001b[0m \u001b[32m━━━━━━━━━━━━━━━━━━━━\u001b[0m\u001b[37m\u001b[0m \u001b[1m0s\u001b[0m 16ms/step - accuracy: 0.5337 - auc: 0.5571 - loss: 1.5305 - val_accuracy: 0.6145 - val_auc: 0.5427 - val_loss: 1.2000 - learning_rate: 0.0010\n",
            "Epoch 3/100\n",
            "\u001b[1m13/17\u001b[0m \u001b[32m━━━━━━━━━━━━━━━\u001b[0m\u001b[37m━━━━━\u001b[0m \u001b[1m0s\u001b[0m 4ms/step - accuracy: 0.5821 - auc: 0.6374 - loss: 1.3200 \n",
            "Epoch 3: val_auc did not improve from 0.54268\n",
            "\u001b[1m17/17\u001b[0m \u001b[32m━━━━━━━━━━━━━━━━━━━━\u001b[0m\u001b[37m\u001b[0m \u001b[1m0s\u001b[0m 11ms/step - accuracy: 0.5804 - auc: 0.6329 - loss: 1.3262 - val_accuracy: 0.4581 - val_auc: 0.5296 - val_loss: 1.2162 - learning_rate: 0.0010\n",
            "Epoch 4/100\n",
            "\u001b[1m14/17\u001b[0m \u001b[32m━━━━━━━━━━━━━━━━\u001b[0m\u001b[37m━━━━\u001b[0m \u001b[1m0s\u001b[0m 4ms/step - accuracy: 0.6134 - auc: 0.6313 - loss: 1.3160 \n",
            "Epoch 4: val_auc did not improve from 0.54268\n",
            "\u001b[1m17/17\u001b[0m \u001b[32m━━━━━━━━━━━━━━━━━━━━\u001b[0m\u001b[37m\u001b[0m \u001b[1m0s\u001b[0m 9ms/step - accuracy: 0.6099 - auc: 0.6321 - loss: 1.3140 - val_accuracy: 0.3128 - val_auc: 0.5208 - val_loss: 1.2739 - learning_rate: 0.0010\n",
            "Epoch 5/100\n",
            "\u001b[1m14/17\u001b[0m \u001b[32m━━━━━━━━━━━━━━━━\u001b[0m\u001b[37m━━━━\u001b[0m \u001b[1m0s\u001b[0m 4ms/step - accuracy: 0.5738 - auc: 0.6259 - loss: 1.3385  \n",
            "Epoch 5: val_auc did not improve from 0.54268\n",
            "\u001b[1m17/17\u001b[0m \u001b[32m━━━━━━━━━━━━━━━━━━━━\u001b[0m\u001b[37m\u001b[0m \u001b[1m0s\u001b[0m 9ms/step - accuracy: 0.5743 - auc: 0.6211 - loss: 1.3498 - val_accuracy: 0.3240 - val_auc: 0.5111 - val_loss: 1.2903 - learning_rate: 0.0010\n",
            "Epoch 6/100\n",
            "\u001b[1m13/17\u001b[0m \u001b[32m━━━━━━━━━━━━━━━\u001b[0m\u001b[37m━━━━━\u001b[0m \u001b[1m0s\u001b[0m 4ms/step - accuracy: 0.5525 - auc: 0.5864 - loss: 1.3378  \n",
            "Epoch 6: val_auc did not improve from 0.54268\n",
            "\n",
            "Epoch 6: ReduceLROnPlateau reducing learning rate to 0.0005000000237487257.\n",
            "\u001b[1m17/17\u001b[0m \u001b[32m━━━━━━━━━━━━━━━━━━━━\u001b[0m\u001b[37m\u001b[0m \u001b[1m0s\u001b[0m 10ms/step - accuracy: 0.5587 - auc: 0.5924 - loss: 1.3395 - val_accuracy: 0.3184 - val_auc: 0.5118 - val_loss: 1.3414 - learning_rate: 0.0010\n",
            "Epoch 7/100\n",
            "\u001b[1m14/17\u001b[0m \u001b[32m━━━━━━━━━━━━━━━━\u001b[0m\u001b[37m━━━━\u001b[0m \u001b[1m0s\u001b[0m 4ms/step - accuracy: 0.6152 - auc: 0.6314 - loss: 1.3083  \n",
            "Epoch 7: val_auc did not improve from 0.54268\n",
            "\u001b[1m17/17\u001b[0m \u001b[32m━━━━━━━━━━━━━━━━━━━━\u001b[0m\u001b[37m\u001b[0m \u001b[1m0s\u001b[0m 10ms/step - accuracy: 0.6146 - auc: 0.6300 - loss: 1.3055 - val_accuracy: 0.3017 - val_auc: 0.5151 - val_loss: 1.3591 - learning_rate: 5.0000e-04\n",
            "Epoch 8/100\n",
            "\u001b[1m10/17\u001b[0m \u001b[32m━━━━━━━━━━━\u001b[0m\u001b[37m━━━━━━━━━\u001b[0m \u001b[1m0s\u001b[0m 6ms/step - accuracy: 0.5575 - auc: 0.6243 - loss: 1.2793  \n",
            "Epoch 8: val_auc did not improve from 0.54268\n",
            "\u001b[1m17/17\u001b[0m \u001b[32m━━━━━━━━━━━━━━━━━━━━\u001b[0m\u001b[37m\u001b[0m \u001b[1m0s\u001b[0m 18ms/step - accuracy: 0.5957 - auc: 0.6422 - loss: 1.2693 - val_accuracy: 0.2961 - val_auc: 0.5156 - val_loss: 1.4810 - learning_rate: 5.0000e-04\n",
            "Epoch 9/100\n",
            "\u001b[1m11/17\u001b[0m \u001b[32m━━━━━━━━━━━━\u001b[0m\u001b[37m━━━━━━━━\u001b[0m \u001b[1m0s\u001b[0m 5ms/step - accuracy: 0.5842 - auc: 0.5973 - loss: 1.3396 \n",
            "Epoch 9: val_auc did not improve from 0.54268\n",
            "\u001b[1m17/17\u001b[0m \u001b[32m━━━━━━━━━━━━━━━━━━━━\u001b[0m\u001b[37m\u001b[0m \u001b[1m0s\u001b[0m 18ms/step - accuracy: 0.5978 - auc: 0.6098 - loss: 1.3281 - val_accuracy: 0.2961 - val_auc: 0.5198 - val_loss: 1.5656 - learning_rate: 5.0000e-04\n",
            "Epoch 10/100\n",
            "\u001b[1m12/17\u001b[0m \u001b[32m━━━━━━━━━━━━━━\u001b[0m\u001b[37m━━━━━━\u001b[0m \u001b[1m0s\u001b[0m 5ms/step - accuracy: 0.6285 - auc: 0.6098 - loss: 1.3326 \n",
            "Epoch 10: val_auc did not improve from 0.54268\n",
            "\u001b[1m17/17\u001b[0m \u001b[32m━━━━━━━━━━━━━━━━━━━━\u001b[0m\u001b[37m\u001b[0m \u001b[1m0s\u001b[0m 18ms/step - accuracy: 0.6281 - auc: 0.6281 - loss: 1.3104 - val_accuracy: 0.2961 - val_auc: 0.5324 - val_loss: 1.6230 - learning_rate: 5.0000e-04\n",
            "Epoch 11/100\n",
            "\u001b[1m 9/17\u001b[0m \u001b[32m━━━━━━━━━━\u001b[0m\u001b[37m━━━━━━━━━━\u001b[0m \u001b[1m0s\u001b[0m 6ms/step - accuracy: 0.5992 - auc: 0.6637 - loss: 1.2601 \n",
            "Epoch 11: val_auc did not improve from 0.54268\n",
            "\n",
            "Epoch 11: ReduceLROnPlateau reducing learning rate to 0.0002500000118743628.\n",
            "\u001b[1m17/17\u001b[0m \u001b[32m━━━━━━━━━━━━━━━━━━━━\u001b[0m\u001b[37m\u001b[0m \u001b[1m0s\u001b[0m 14ms/step - accuracy: 0.6250 - auc: 0.6805 - loss: 1.2297 - val_accuracy: 0.2961 - val_auc: 0.5321 - val_loss: 1.8899 - learning_rate: 5.0000e-04\n",
            "Epoch 12/100\n",
            "\u001b[1m10/17\u001b[0m \u001b[32m━━━━━━━━━━━\u001b[0m\u001b[37m━━━━━━━━━\u001b[0m \u001b[1m0s\u001b[0m 6ms/step - accuracy: 0.5669 - auc: 0.6126 - loss: 1.3540 \n",
            "Epoch 12: val_auc did not improve from 0.54268\n",
            "\u001b[1m17/17\u001b[0m \u001b[32m━━━━━━━━━━━━━━━━━━━━\u001b[0m\u001b[37m\u001b[0m \u001b[1m0s\u001b[0m 18ms/step - accuracy: 0.5887 - auc: 0.6303 - loss: 1.3176 - val_accuracy: 0.2961 - val_auc: 0.5309 - val_loss: 1.9714 - learning_rate: 2.5000e-04\n",
            "Epoch 13/100\n",
            "\u001b[1m14/17\u001b[0m \u001b[32m━━━━━━━━━━━━━━━━\u001b[0m\u001b[37m━━━━\u001b[0m \u001b[1m0s\u001b[0m 4ms/step - accuracy: 0.6744 - auc: 0.7303 - loss: 1.1645 \n",
            "Epoch 13: val_auc did not improve from 0.54268\n",
            "\u001b[1m17/17\u001b[0m \u001b[32m━━━━━━━━━━━━━━━━━━━━\u001b[0m\u001b[37m\u001b[0m \u001b[1m0s\u001b[0m 9ms/step - accuracy: 0.6704 - auc: 0.7262 - loss: 1.1662 - val_accuracy: 0.2961 - val_auc: 0.5386 - val_loss: 2.0442 - learning_rate: 2.5000e-04\n",
            "Epoch 14/100\n",
            "\u001b[1m14/17\u001b[0m \u001b[32m━━━━━━━━━━━━━━━━\u001b[0m\u001b[37m━━━━\u001b[0m \u001b[1m0s\u001b[0m 4ms/step - accuracy: 0.6672 - auc: 0.7010 - loss: 1.2019 \n",
            "Epoch 14: val_auc did not improve from 0.54268\n",
            "\u001b[1m17/17\u001b[0m \u001b[32m━━━━━━━━━━━━━━━━━━━━\u001b[0m\u001b[37m\u001b[0m \u001b[1m0s\u001b[0m 10ms/step - accuracy: 0.6698 - auc: 0.7013 - loss: 1.2012 - val_accuracy: 0.2961 - val_auc: 0.5320 - val_loss: 2.0585 - learning_rate: 2.5000e-04\n",
            "Epoch 15/100\n",
            "\u001b[1m13/17\u001b[0m \u001b[32m━━━━━━━━━━━━━━━\u001b[0m\u001b[37m━━━━━\u001b[0m \u001b[1m0s\u001b[0m 4ms/step - accuracy: 0.6506 - auc: 0.7290 - loss: 1.1720  \n",
            "Epoch 15: val_auc did not improve from 0.54268\n",
            "\u001b[1m17/17\u001b[0m \u001b[32m━━━━━━━━━━━━━━━━━━━━\u001b[0m\u001b[37m\u001b[0m \u001b[1m0s\u001b[0m 10ms/step - accuracy: 0.6469 - auc: 0.7204 - loss: 1.1797 - val_accuracy: 0.2961 - val_auc: 0.5352 - val_loss: 2.0667 - learning_rate: 2.5000e-04\n",
            "Epoch 16/100\n",
            "\u001b[1m14/17\u001b[0m \u001b[32m━━━━━━━━━━━━━━━━\u001b[0m\u001b[37m━━━━\u001b[0m \u001b[1m0s\u001b[0m 4ms/step - accuracy: 0.6248 - auc: 0.6574 - loss: 1.2826 \n",
            "Epoch 16: val_auc did not improve from 0.54268\n",
            "\n",
            "Epoch 16: ReduceLROnPlateau reducing learning rate to 0.0001250000059371814.\n",
            "\u001b[1m17/17\u001b[0m \u001b[32m━━━━━━━━━━━━━━━━━━━━\u001b[0m\u001b[37m\u001b[0m \u001b[1m0s\u001b[0m 10ms/step - accuracy: 0.6400 - auc: 0.6767 - loss: 1.2536 - val_accuracy: 0.2961 - val_auc: 0.5423 - val_loss: 2.0739 - learning_rate: 2.5000e-04\n",
            "Epoch 17/100\n",
            "\u001b[1m14/17\u001b[0m \u001b[32m━━━━━━━━━━━━━━━━\u001b[0m\u001b[37m━━━━\u001b[0m \u001b[1m0s\u001b[0m 4ms/step - accuracy: 0.5832 - auc: 0.6515 - loss: 1.2555  \n",
            "Epoch 17: val_auc did not improve from 0.54268\n",
            "\u001b[1m17/17\u001b[0m \u001b[32m━━━━━━━━━━━━━━━━━━━━\u001b[0m\u001b[37m\u001b[0m \u001b[1m0s\u001b[0m 9ms/step - accuracy: 0.5928 - auc: 0.6620 - loss: 1.2455 - val_accuracy: 0.2961 - val_auc: 0.5380 - val_loss: 2.0441 - learning_rate: 1.2500e-04\n",
            "Epoch 18/100\n",
            "\u001b[1m14/17\u001b[0m \u001b[32m━━━━━━━━━━━━━━━━\u001b[0m\u001b[37m━━━━\u001b[0m \u001b[1m0s\u001b[0m 4ms/step - accuracy: 0.6411 - auc: 0.7186 - loss: 1.1745  \n",
            "Epoch 18: val_auc did not improve from 0.54268\n",
            "\u001b[1m17/17\u001b[0m \u001b[32m━━━━━━━━━━━━━━━━━━━━\u001b[0m\u001b[37m\u001b[0m \u001b[1m0s\u001b[0m 10ms/step - accuracy: 0.6529 - auc: 0.7304 - loss: 1.1584 - val_accuracy: 0.3017 - val_auc: 0.5361 - val_loss: 1.9879 - learning_rate: 1.2500e-04\n",
            "Epoch 19/100\n",
            "\u001b[1m14/17\u001b[0m \u001b[32m━━━━━━━━━━━━━━━━\u001b[0m\u001b[37m━━━━\u001b[0m \u001b[1m0s\u001b[0m 4ms/step - accuracy: 0.6631 - auc: 0.6988 - loss: 1.2464  \n",
            "Epoch 19: val_auc did not improve from 0.54268\n",
            "\u001b[1m17/17\u001b[0m \u001b[32m━━━━━━━━━━━━━━━━━━━━\u001b[0m\u001b[37m\u001b[0m \u001b[1m0s\u001b[0m 10ms/step - accuracy: 0.6675 - auc: 0.7028 - loss: 1.2371 - val_accuracy: 0.3128 - val_auc: 0.5393 - val_loss: 1.9509 - learning_rate: 1.2500e-04\n",
            "Epoch 20/100\n",
            "\u001b[1m13/17\u001b[0m \u001b[32m━━━━━━━━━━━━━━━\u001b[0m\u001b[37m━━━━━\u001b[0m \u001b[1m0s\u001b[0m 4ms/step - accuracy: 0.6596 - auc: 0.6958 - loss: 1.2010  \n",
            "Epoch 20: val_auc improved from 0.54268 to 0.55054, saving model to /content/depression_detection/best_model.h5\n"
          ]
        },
        {
          "output_type": "stream",
          "name": "stderr",
          "text": [
            "WARNING:absl:You are saving your model as an HDF5 file via `model.save()` or `keras.saving.save_model(model)`. This file format is considered legacy. We recommend using instead the native Keras format, e.g. `model.save('my_model.keras')` or `keras.saving.save_model(model, 'my_model.keras')`. \n"
          ]
        },
        {
          "output_type": "stream",
          "name": "stdout",
          "text": [
            "\b\b\b\b\b\b\b\b\b\b\b\b\b\b\b\b\b\b\b\b\b\b\b\b\b\b\b\b\b\b\b\b\b\b\b\b\b\b\b\b\b\b\b\b\b\b\b\b\b\b\b\b\b\b\b\b\b\b\b\b\b\b\b\b\b\b\b\b\b\b\b\b\b\b\b\b\b\b\b\b\b\b\b\b\b\b\r\u001b[1m17/17\u001b[0m \u001b[32m━━━━━━━━━━━━━━━━━━━━\u001b[0m\u001b[37m\u001b[0m \u001b[1m0s\u001b[0m 16ms/step - accuracy: 0.6633 - auc: 0.7035 - loss: 1.1886 - val_accuracy: 0.3073 - val_auc: 0.5505 - val_loss: 1.8896 - learning_rate: 1.2500e-04\n",
            "Epoch 21/100\n",
            "\u001b[1m14/17\u001b[0m \u001b[32m━━━━━━━━━━━━━━━━\u001b[0m\u001b[37m━━━━\u001b[0m \u001b[1m0s\u001b[0m 4ms/step - accuracy: 0.6960 - auc: 0.7919 - loss: 1.0756 \n",
            "Epoch 21: val_auc improved from 0.55054 to 0.56267, saving model to /content/depression_detection/best_model.h5\n"
          ]
        },
        {
          "output_type": "stream",
          "name": "stderr",
          "text": [
            "WARNING:absl:You are saving your model as an HDF5 file via `model.save()` or `keras.saving.save_model(model)`. This file format is considered legacy. We recommend using instead the native Keras format, e.g. `model.save('my_model.keras')` or `keras.saving.save_model(model, 'my_model.keras')`. \n"
          ]
        },
        {
          "output_type": "stream",
          "name": "stdout",
          "text": [
            "\n",
            "Epoch 21: ReduceLROnPlateau reducing learning rate to 6.25000029685907e-05.\n",
            "\u001b[1m17/17\u001b[0m \u001b[32m━━━━━━━━━━━━━━━━━━━━\u001b[0m\u001b[37m\u001b[0m \u001b[1m0s\u001b[0m 15ms/step - accuracy: 0.6898 - auc: 0.7805 - loss: 1.0907 - val_accuracy: 0.3184 - val_auc: 0.5627 - val_loss: 1.8558 - learning_rate: 1.2500e-04\n",
            "Epoch 22/100\n",
            "\u001b[1m14/17\u001b[0m \u001b[32m━━━━━━━━━━━━━━━━\u001b[0m\u001b[37m━━━━\u001b[0m \u001b[1m0s\u001b[0m 4ms/step - accuracy: 0.6849 - auc: 0.7483 - loss: 1.1403 \n",
            "Epoch 22: val_auc improved from 0.56267 to 0.57412, saving model to /content/depression_detection/best_model.h5\n"
          ]
        },
        {
          "output_type": "stream",
          "name": "stderr",
          "text": [
            "WARNING:absl:You are saving your model as an HDF5 file via `model.save()` or `keras.saving.save_model(model)`. This file format is considered legacy. We recommend using instead the native Keras format, e.g. `model.save('my_model.keras')` or `keras.saving.save_model(model, 'my_model.keras')`. \n"
          ]
        },
        {
          "output_type": "stream",
          "name": "stdout",
          "text": [
            "\b\b\b\b\b\b\b\b\b\b\b\b\b\b\b\b\b\b\b\b\b\b\b\b\b\b\b\b\b\b\b\b\b\b\b\b\b\b\b\b\b\b\b\b\b\b\b\b\b\b\b\b\b\b\b\b\b\b\b\b\b\b\b\b\b\b\b\b\b\b\b\b\b\b\b\b\b\b\b\b\b\b\b\b\b\b\r\u001b[1m17/17\u001b[0m \u001b[32m━━━━━━━━━━━━━━━━━━━━\u001b[0m\u001b[37m\u001b[0m \u001b[1m0s\u001b[0m 14ms/step - accuracy: 0.6838 - auc: 0.7410 - loss: 1.1482 - val_accuracy: 0.3240 - val_auc: 0.5741 - val_loss: 1.7899 - learning_rate: 6.2500e-05\n",
            "Epoch 23/100\n",
            "\u001b[1m13/17\u001b[0m \u001b[32m━━━━━━━━━━━━━━━\u001b[0m\u001b[37m━━━━━\u001b[0m \u001b[1m0s\u001b[0m 4ms/step - accuracy: 0.6740 - auc: 0.7480 - loss: 1.1414 \n",
            "Epoch 23: val_auc improved from 0.57412 to 0.57869, saving model to /content/depression_detection/best_model.h5\n"
          ]
        },
        {
          "output_type": "stream",
          "name": "stderr",
          "text": [
            "WARNING:absl:You are saving your model as an HDF5 file via `model.save()` or `keras.saving.save_model(model)`. This file format is considered legacy. We recommend using instead the native Keras format, e.g. `model.save('my_model.keras')` or `keras.saving.save_model(model, 'my_model.keras')`. \n"
          ]
        },
        {
          "output_type": "stream",
          "name": "stdout",
          "text": [
            "\b\b\b\b\b\b\b\b\b\b\b\b\b\b\b\b\b\b\b\b\b\b\b\b\b\b\b\b\b\b\b\b\b\b\b\b\b\b\b\b\b\b\b\b\b\b\b\b\b\b\b\b\b\b\b\b\b\b\b\b\b\b\b\b\b\b\b\b\b\b\b\b\b\b\b\b\b\b\b\b\b\b\b\b\b\b\r\u001b[1m17/17\u001b[0m \u001b[32m━━━━━━━━━━━━━━━━━━━━\u001b[0m\u001b[37m\u001b[0m \u001b[1m0s\u001b[0m 15ms/step - accuracy: 0.6729 - auc: 0.7472 - loss: 1.1404 - val_accuracy: 0.3352 - val_auc: 0.5787 - val_loss: 1.7207 - learning_rate: 6.2500e-05\n",
            "Epoch 24/100\n",
            "\u001b[1m13/17\u001b[0m \u001b[32m━━━━━━━━━━━━━━━\u001b[0m\u001b[37m━━━━━\u001b[0m \u001b[1m0s\u001b[0m 4ms/step - accuracy: 0.6963 - auc: 0.7533 - loss: 1.1584 \n",
            "Epoch 24: val_auc did not improve from 0.57869\n",
            "\u001b[1m17/17\u001b[0m \u001b[32m━━━━━━━━━━━━━━━━━━━━\u001b[0m\u001b[37m\u001b[0m \u001b[1m0s\u001b[0m 10ms/step - accuracy: 0.7000 - auc: 0.7544 - loss: 1.1566 - val_accuracy: 0.3575 - val_auc: 0.5741 - val_loss: 1.6353 - learning_rate: 6.2500e-05\n",
            "Epoch 25/100\n",
            "\u001b[1m14/17\u001b[0m \u001b[32m━━━━━━━━━━━━━━━━\u001b[0m\u001b[37m━━━━\u001b[0m \u001b[1m0s\u001b[0m 4ms/step - accuracy: 0.6679 - auc: 0.7166 - loss: 1.2535 \n",
            "Epoch 25: val_auc did not improve from 0.57869\n",
            "\u001b[1m17/17\u001b[0m \u001b[32m━━━━━━━━━━━━━━━━━━━━\u001b[0m\u001b[37m\u001b[0m \u001b[1m0s\u001b[0m 10ms/step - accuracy: 0.6633 - auc: 0.7158 - loss: 1.2454 - val_accuracy: 0.4022 - val_auc: 0.5661 - val_loss: 1.5539 - learning_rate: 6.2500e-05\n",
            "Epoch 26/100\n",
            "\u001b[1m14/17\u001b[0m \u001b[32m━━━━━━━━━━━━━━━━\u001b[0m\u001b[37m━━━━\u001b[0m \u001b[1m0s\u001b[0m 4ms/step - accuracy: 0.6789 - auc: 0.7335 - loss: 1.1475  \n",
            "Epoch 26: val_auc did not improve from 0.57869\n",
            "\n",
            "Epoch 26: ReduceLROnPlateau reducing learning rate to 3.125000148429535e-05.\n",
            "\u001b[1m17/17\u001b[0m \u001b[32m━━━━━━━━━━━━━━━━━━━━\u001b[0m\u001b[37m\u001b[0m \u001b[1m0s\u001b[0m 10ms/step - accuracy: 0.6765 - auc: 0.7284 - loss: 1.1547 - val_accuracy: 0.4469 - val_auc: 0.5600 - val_loss: 1.5021 - learning_rate: 6.2500e-05\n",
            "Epoch 27/100\n",
            "\u001b[1m14/17\u001b[0m \u001b[32m━━━━━━━━━━━━━━━━\u001b[0m\u001b[37m━━━━\u001b[0m \u001b[1m0s\u001b[0m 4ms/step - accuracy: 0.6968 - auc: 0.7905 - loss: 1.0908  \n",
            "Epoch 27: val_auc did not improve from 0.57869\n",
            "\u001b[1m17/17\u001b[0m \u001b[32m━━━━━━━━━━━━━━━━━━━━\u001b[0m\u001b[37m\u001b[0m \u001b[1m0s\u001b[0m 10ms/step - accuracy: 0.6940 - auc: 0.7811 - loss: 1.1036 - val_accuracy: 0.4525 - val_auc: 0.5630 - val_loss: 1.4532 - learning_rate: 3.1250e-05\n",
            "Epoch 28/100\n",
            "\u001b[1m14/17\u001b[0m \u001b[32m━━━━━━━━━━━━━━━━\u001b[0m\u001b[37m━━━━\u001b[0m \u001b[1m0s\u001b[0m 4ms/step - accuracy: 0.6851 - auc: 0.7460 - loss: 1.1391  \n",
            "Epoch 28: val_auc did not improve from 0.57869\n",
            "\u001b[1m17/17\u001b[0m \u001b[32m━━━━━━━━━━━━━━━━━━━━\u001b[0m\u001b[37m\u001b[0m \u001b[1m0s\u001b[0m 11ms/step - accuracy: 0.6844 - auc: 0.7455 - loss: 1.1420 - val_accuracy: 0.4860 - val_auc: 0.5703 - val_loss: 1.4044 - learning_rate: 3.1250e-05\n",
            "Epoch 29/100\n",
            "\u001b[1m13/17\u001b[0m \u001b[32m━━━━━━━━━━━━━━━\u001b[0m\u001b[37m━━━━━\u001b[0m \u001b[1m0s\u001b[0m 4ms/step - accuracy: 0.5940 - auc: 0.6564 - loss: 1.2418  \n",
            "Epoch 29: val_auc did not improve from 0.57869\n",
            "\u001b[1m17/17\u001b[0m \u001b[32m━━━━━━━━━━━━━━━━━━━━\u001b[0m\u001b[37m\u001b[0m \u001b[1m0s\u001b[0m 10ms/step - accuracy: 0.6080 - auc: 0.6712 - loss: 1.2252 - val_accuracy: 0.5084 - val_auc: 0.5747 - val_loss: 1.3649 - learning_rate: 3.1250e-05\n",
            "Epoch 30/100\n",
            "\u001b[1m14/17\u001b[0m \u001b[32m━━━━━━━━━━━━━━━━\u001b[0m\u001b[37m━━━━\u001b[0m \u001b[1m0s\u001b[0m 4ms/step - accuracy: 0.6444 - auc: 0.6812 - loss: 1.2224  \n",
            "Epoch 30: val_auc did not improve from 0.57869\n",
            "\u001b[1m17/17\u001b[0m \u001b[32m━━━━━━━━━━━━━━━━━━━━\u001b[0m\u001b[37m\u001b[0m \u001b[1m0s\u001b[0m 10ms/step - accuracy: 0.6581 - auc: 0.6981 - loss: 1.2016 - val_accuracy: 0.5140 - val_auc: 0.5768 - val_loss: 1.3436 - learning_rate: 3.1250e-05\n",
            "Epoch 31/100\n",
            "\u001b[1m12/17\u001b[0m \u001b[32m━━━━━━━━━━━━━━\u001b[0m\u001b[37m━━━━━━\u001b[0m \u001b[1m0s\u001b[0m 5ms/step - accuracy: 0.6139 - auc: 0.7008 - loss: 1.2101  \n",
            "Epoch 31: val_auc improved from 0.57869 to 0.58191, saving model to /content/depression_detection/best_model.h5\n"
          ]
        },
        {
          "output_type": "stream",
          "name": "stderr",
          "text": [
            "WARNING:absl:You are saving your model as an HDF5 file via `model.save()` or `keras.saving.save_model(model)`. This file format is considered legacy. We recommend using instead the native Keras format, e.g. `model.save('my_model.keras')` or `keras.saving.save_model(model, 'my_model.keras')`. \n"
          ]
        },
        {
          "output_type": "stream",
          "name": "stdout",
          "text": [
            "\n",
            "Epoch 31: ReduceLROnPlateau reducing learning rate to 1.5625000742147677e-05.\n",
            "\u001b[1m17/17\u001b[0m \u001b[32m━━━━━━━━━━━━━━━━━━━━\u001b[0m\u001b[37m\u001b[0m \u001b[1m0s\u001b[0m 16ms/step - accuracy: 0.6259 - auc: 0.7101 - loss: 1.2032 - val_accuracy: 0.5419 - val_auc: 0.5819 - val_loss: 1.3152 - learning_rate: 3.1250e-05\n",
            "Epoch 32/100\n",
            "\u001b[1m14/17\u001b[0m \u001b[32m━━━━━━━━━━━━━━━━\u001b[0m\u001b[37m━━━━\u001b[0m \u001b[1m0s\u001b[0m 4ms/step - accuracy: 0.7395 - auc: 0.8177 - loss: 1.0683 \n",
            "Epoch 32: val_auc improved from 0.58191 to 0.58393, saving model to /content/depression_detection/best_model.h5\n"
          ]
        },
        {
          "output_type": "stream",
          "name": "stderr",
          "text": [
            "WARNING:absl:You are saving your model as an HDF5 file via `model.save()` or `keras.saving.save_model(model)`. This file format is considered legacy. We recommend using instead the native Keras format, e.g. `model.save('my_model.keras')` or `keras.saving.save_model(model, 'my_model.keras')`. \n"
          ]
        },
        {
          "output_type": "stream",
          "name": "stdout",
          "text": [
            "\b\b\b\b\b\b\b\b\b\b\b\b\b\b\b\b\b\b\b\b\b\b\b\b\b\b\b\b\b\b\b\b\b\b\b\b\b\b\b\b\b\b\b\b\b\b\b\b\b\b\b\b\b\b\b\b\b\b\b\b\b\b\b\b\b\b\b\b\b\b\b\b\b\b\b\b\b\b\b\b\b\b\b\b\b\b\r\u001b[1m17/17\u001b[0m \u001b[32m━━━━━━━━━━━━━━━━━━━━\u001b[0m\u001b[37m\u001b[0m \u001b[1m0s\u001b[0m 14ms/step - accuracy: 0.7340 - auc: 0.8080 - loss: 1.0774 - val_accuracy: 0.5642 - val_auc: 0.5839 - val_loss: 1.2925 - learning_rate: 1.5625e-05\n",
            "Epoch 33/100\n",
            "\u001b[1m14/17\u001b[0m \u001b[32m━━━━━━━━━━━━━━━━\u001b[0m\u001b[37m━━━━\u001b[0m \u001b[1m0s\u001b[0m 4ms/step - accuracy: 0.6854 - auc: 0.7249 - loss: 1.2480 \n",
            "Epoch 33: val_auc improved from 0.58393 to 0.58685, saving model to /content/depression_detection/best_model.h5\n"
          ]
        },
        {
          "output_type": "stream",
          "name": "stderr",
          "text": [
            "WARNING:absl:You are saving your model as an HDF5 file via `model.save()` or `keras.saving.save_model(model)`. This file format is considered legacy. We recommend using instead the native Keras format, e.g. `model.save('my_model.keras')` or `keras.saving.save_model(model, 'my_model.keras')`. \n"
          ]
        },
        {
          "output_type": "stream",
          "name": "stdout",
          "text": [
            "\b\b\b\b\b\b\b\b\b\b\b\b\b\b\b\b\b\b\b\b\b\b\b\b\b\b\b\b\b\b\b\b\b\b\b\b\b\b\b\b\b\b\b\b\b\b\b\b\b\b\b\b\b\b\b\b\b\b\b\b\b\b\b\b\b\b\b\b\b\b\b\b\b\b\b\b\b\b\b\b\b\b\b\b\b\b\r\u001b[1m17/17\u001b[0m \u001b[32m━━━━━━━━━━━━━━━━━━━━\u001b[0m\u001b[37m\u001b[0m \u001b[1m0s\u001b[0m 14ms/step - accuracy: 0.6778 - auc: 0.7204 - loss: 1.2440 - val_accuracy: 0.6089 - val_auc: 0.5869 - val_loss: 1.2753 - learning_rate: 1.5625e-05\n",
            "Epoch 34/100\n",
            "\u001b[1m14/17\u001b[0m \u001b[32m━━━━━━━━━━━━━━━━\u001b[0m\u001b[37m━━━━\u001b[0m \u001b[1m0s\u001b[0m 4ms/step - accuracy: 0.6693 - auc: 0.7556 - loss: 1.1079 \n",
            "Epoch 34: val_auc improved from 0.58685 to 0.58977, saving model to /content/depression_detection/best_model.h5\n"
          ]
        },
        {
          "output_type": "stream",
          "name": "stderr",
          "text": [
            "WARNING:absl:You are saving your model as an HDF5 file via `model.save()` or `keras.saving.save_model(model)`. This file format is considered legacy. We recommend using instead the native Keras format, e.g. `model.save('my_model.keras')` or `keras.saving.save_model(model, 'my_model.keras')`. \n"
          ]
        },
        {
          "output_type": "stream",
          "name": "stdout",
          "text": [
            "\b\b\b\b\b\b\b\b\b\b\b\b\b\b\b\b\b\b\b\b\b\b\b\b\b\b\b\b\b\b\b\b\b\b\b\b\b\b\b\b\b\b\b\b\b\b\b\b\b\b\b\b\b\b\b\b\b\b\b\b\b\b\b\b\b\b\b\b\b\b\b\b\b\b\b\b\b\b\b\b\b\b\b\b\b\b\r\u001b[1m17/17\u001b[0m \u001b[32m━━━━━━━━━━━━━━━━━━━━\u001b[0m\u001b[37m\u001b[0m \u001b[1m0s\u001b[0m 15ms/step - accuracy: 0.6729 - auc: 0.7558 - loss: 1.1126 - val_accuracy: 0.6145 - val_auc: 0.5898 - val_loss: 1.2613 - learning_rate: 1.5625e-05\n",
            "Epoch 35/100\n",
            "\u001b[1m14/17\u001b[0m \u001b[32m━━━━━━━━━━━━━━━━\u001b[0m\u001b[37m━━━━\u001b[0m \u001b[1m0s\u001b[0m 4ms/step - accuracy: 0.7162 - auc: 0.7754 - loss: 1.1201 \n",
            "Epoch 35: val_auc improved from 0.58977 to 0.59142, saving model to /content/depression_detection/best_model.h5\n"
          ]
        },
        {
          "output_type": "stream",
          "name": "stderr",
          "text": [
            "WARNING:absl:You are saving your model as an HDF5 file via `model.save()` or `keras.saving.save_model(model)`. This file format is considered legacy. We recommend using instead the native Keras format, e.g. `model.save('my_model.keras')` or `keras.saving.save_model(model, 'my_model.keras')`. \n"
          ]
        },
        {
          "output_type": "stream",
          "name": "stdout",
          "text": [
            "\b\b\b\b\b\b\b\b\b\b\b\b\b\b\b\b\b\b\b\b\b\b\b\b\b\b\b\b\b\b\b\b\b\b\b\b\b\b\b\b\b\b\b\b\b\b\b\b\b\b\b\b\b\b\b\b\b\b\b\b\b\b\b\b\b\b\b\b\b\b\b\b\b\b\b\b\b\b\b\b\b\b\b\b\b\b\r\u001b[1m17/17\u001b[0m \u001b[32m━━━━━━━━━━━━━━━━━━━━\u001b[0m\u001b[37m\u001b[0m \u001b[1m0s\u001b[0m 14ms/step - accuracy: 0.7105 - auc: 0.7697 - loss: 1.1286 - val_accuracy: 0.6089 - val_auc: 0.5914 - val_loss: 1.2520 - learning_rate: 1.5625e-05\n",
            "Epoch 36/100\n",
            "\u001b[1m13/17\u001b[0m \u001b[32m━━━━━━━━━━━━━━━\u001b[0m\u001b[37m━━━━━\u001b[0m \u001b[1m0s\u001b[0m 4ms/step - accuracy: 0.6384 - auc: 0.6900 - loss: 1.2485 \n",
            "Epoch 36: val_auc improved from 0.59142 to 0.59411, saving model to /content/depression_detection/best_model.h5\n"
          ]
        },
        {
          "output_type": "stream",
          "name": "stderr",
          "text": [
            "WARNING:absl:You are saving your model as an HDF5 file via `model.save()` or `keras.saving.save_model(model)`. This file format is considered legacy. We recommend using instead the native Keras format, e.g. `model.save('my_model.keras')` or `keras.saving.save_model(model, 'my_model.keras')`. \n"
          ]
        },
        {
          "output_type": "stream",
          "name": "stdout",
          "text": [
            "\n",
            "Epoch 36: ReduceLROnPlateau reducing learning rate to 1e-05.\n",
            "\u001b[1m17/17\u001b[0m \u001b[32m━━━━━━━━━━━━━━━━━━━━\u001b[0m\u001b[37m\u001b[0m \u001b[1m0s\u001b[0m 16ms/step - accuracy: 0.6517 - auc: 0.7059 - loss: 1.2225 - val_accuracy: 0.6313 - val_auc: 0.5941 - val_loss: 1.2416 - learning_rate: 1.5625e-05\n",
            "Epoch 37/100\n",
            "\u001b[1m14/17\u001b[0m \u001b[32m━━━━━━━━━━━━━━━━\u001b[0m\u001b[37m━━━━\u001b[0m \u001b[1m0s\u001b[0m 4ms/step - accuracy: 0.6591 - auc: 0.7192 - loss: 1.1797 \n",
            "Epoch 37: val_auc improved from 0.59411 to 0.59516, saving model to /content/depression_detection/best_model.h5\n"
          ]
        },
        {
          "output_type": "stream",
          "name": "stderr",
          "text": [
            "WARNING:absl:You are saving your model as an HDF5 file via `model.save()` or `keras.saving.save_model(model)`. This file format is considered legacy. We recommend using instead the native Keras format, e.g. `model.save('my_model.keras')` or `keras.saving.save_model(model, 'my_model.keras')`. \n"
          ]
        },
        {
          "output_type": "stream",
          "name": "stdout",
          "text": [
            "\b\b\b\b\b\b\b\b\b\b\b\b\b\b\b\b\b\b\b\b\b\b\b\b\b\b\b\b\b\b\b\b\b\b\b\b\b\b\b\b\b\b\b\b\b\b\b\b\b\b\b\b\b\b\b\b\b\b\b\b\b\b\b\b\b\b\b\b\b\b\b\b\b\b\b\b\b\b\b\b\b\b\b\b\b\b\r\u001b[1m17/17\u001b[0m \u001b[32m━━━━━━━━━━━━━━━━━━━━\u001b[0m\u001b[37m\u001b[0m \u001b[1m0s\u001b[0m 15ms/step - accuracy: 0.6648 - auc: 0.7289 - loss: 1.1690 - val_accuracy: 0.6313 - val_auc: 0.5952 - val_loss: 1.2359 - learning_rate: 1.0000e-05\n",
            "Epoch 38/100\n",
            "\u001b[1m13/17\u001b[0m \u001b[32m━━━━━━━━━━━━━━━\u001b[0m\u001b[37m━━━━━\u001b[0m \u001b[1m0s\u001b[0m 4ms/step - accuracy: 0.7143 - auc: 0.8011 - loss: 1.0997 \n",
            "Epoch 38: val_auc improved from 0.59516 to 0.59546, saving model to /content/depression_detection/best_model.h5\n"
          ]
        },
        {
          "output_type": "stream",
          "name": "stderr",
          "text": [
            "WARNING:absl:You are saving your model as an HDF5 file via `model.save()` or `keras.saving.save_model(model)`. This file format is considered legacy. We recommend using instead the native Keras format, e.g. `model.save('my_model.keras')` or `keras.saving.save_model(model, 'my_model.keras')`. \n"
          ]
        },
        {
          "output_type": "stream",
          "name": "stdout",
          "text": [
            "\b\b\b\b\b\b\b\b\b\b\b\b\b\b\b\b\b\b\b\b\b\b\b\b\b\b\b\b\b\b\b\b\b\b\b\b\b\b\b\b\b\b\b\b\b\b\b\b\b\b\b\b\b\b\b\b\b\b\b\b\b\b\b\b\b\b\b\b\b\b\b\b\b\b\b\b\b\b\b\b\b\b\b\b\b\b\r\u001b[1m17/17\u001b[0m \u001b[32m━━━━━━━━━━━━━━━━━━━━\u001b[0m\u001b[37m\u001b[0m \u001b[1m0s\u001b[0m 17ms/step - accuracy: 0.7113 - auc: 0.7951 - loss: 1.1023 - val_accuracy: 0.6257 - val_auc: 0.5955 - val_loss: 1.2368 - learning_rate: 1.0000e-05\n",
            "Epoch 39/100\n",
            "\u001b[1m14/17\u001b[0m \u001b[32m━━━━━━━━━━━━━━━━\u001b[0m\u001b[37m━━━━\u001b[0m \u001b[1m0s\u001b[0m 4ms/step - accuracy: 0.7009 - auc: 0.7622 - loss: 1.1359 \n",
            "Epoch 39: val_auc did not improve from 0.59546\n",
            "\u001b[1m17/17\u001b[0m \u001b[32m━━━━━━━━━━━━━━━━━━━━\u001b[0m\u001b[37m\u001b[0m \u001b[1m0s\u001b[0m 10ms/step - accuracy: 0.7027 - auc: 0.7641 - loss: 1.1300 - val_accuracy: 0.6313 - val_auc: 0.5937 - val_loss: 1.2412 - learning_rate: 1.0000e-05\n",
            "Epoch 40/100\n",
            "\u001b[1m14/17\u001b[0m \u001b[32m━━━━━━━━━━━━━━━━\u001b[0m\u001b[37m━━━━\u001b[0m \u001b[1m0s\u001b[0m 4ms/step - accuracy: 0.7153 - auc: 0.8002 - loss: 1.0606  \n",
            "Epoch 40: val_auc did not improve from 0.59546\n",
            "\u001b[1m17/17\u001b[0m \u001b[32m━━━━━━━━━━━━━━━━━━━━\u001b[0m\u001b[37m\u001b[0m \u001b[1m0s\u001b[0m 10ms/step - accuracy: 0.7049 - auc: 0.7883 - loss: 1.0760 - val_accuracy: 0.6480 - val_auc: 0.5943 - val_loss: 1.2394 - learning_rate: 1.0000e-05\n",
            "Epoch 41/100\n",
            "\u001b[1m12/17\u001b[0m \u001b[32m━━━━━━━━━━━━━━\u001b[0m\u001b[37m━━━━━━\u001b[0m \u001b[1m0s\u001b[0m 5ms/step - accuracy: 0.6884 - auc: 0.7672 - loss: 1.1299 \n",
            "Epoch 41: val_auc did not improve from 0.59546\n",
            "\u001b[1m17/17\u001b[0m \u001b[32m━━━━━━━━━━━━━━━━━━━━\u001b[0m\u001b[37m\u001b[0m \u001b[1m0s\u001b[0m 11ms/step - accuracy: 0.6928 - auc: 0.7637 - loss: 1.1353 - val_accuracy: 0.6480 - val_auc: 0.5931 - val_loss: 1.2365 - learning_rate: 1.0000e-05\n",
            "Epoch 42/100\n",
            "\u001b[1m12/17\u001b[0m \u001b[32m━━━━━━━━━━━━━━\u001b[0m\u001b[37m━━━━━━\u001b[0m \u001b[1m0s\u001b[0m 5ms/step - accuracy: 0.7589 - auc: 0.8020 - loss: 1.0469 \n",
            "Epoch 42: val_auc did not improve from 0.59546\n",
            "\u001b[1m17/17\u001b[0m \u001b[32m━━━━━━━━━━━━━━━━━━━━\u001b[0m\u001b[37m\u001b[0m \u001b[1m0s\u001b[0m 10ms/step - accuracy: 0.7373 - auc: 0.7819 - loss: 1.0797 - val_accuracy: 0.6536 - val_auc: 0.5916 - val_loss: 1.2375 - learning_rate: 1.0000e-05\n",
            "Epoch 43/100\n",
            "\u001b[1m14/17\u001b[0m \u001b[32m━━━━━━━━━━━━━━━━\u001b[0m\u001b[37m━━━━\u001b[0m \u001b[1m0s\u001b[0m 4ms/step - accuracy: 0.7781 - auc: 0.8304 - loss: 1.0311 \n",
            "Epoch 43: val_auc did not improve from 0.59546\n",
            "\u001b[1m17/17\u001b[0m \u001b[32m━━━━━━━━━━━━━━━━━━━━\u001b[0m\u001b[37m\u001b[0m \u001b[1m0s\u001b[0m 11ms/step - accuracy: 0.7637 - auc: 0.8182 - loss: 1.0472 - val_accuracy: 0.6536 - val_auc: 0.5912 - val_loss: 1.2369 - learning_rate: 1.0000e-05\n",
            "Epoch 44/100\n",
            "\u001b[1m14/17\u001b[0m \u001b[32m━━━━━━━━━━━━━━━━\u001b[0m\u001b[37m━━━━\u001b[0m \u001b[1m0s\u001b[0m 4ms/step - accuracy: 0.6473 - auc: 0.7162 - loss: 1.1890  \n",
            "Epoch 44: val_auc did not improve from 0.59546\n",
            "\u001b[1m17/17\u001b[0m \u001b[32m━━━━━━━━━━━━━━━━━━━━\u001b[0m\u001b[37m\u001b[0m \u001b[1m0s\u001b[0m 10ms/step - accuracy: 0.6591 - auc: 0.7269 - loss: 1.1773 - val_accuracy: 0.6536 - val_auc: 0.5916 - val_loss: 1.2395 - learning_rate: 1.0000e-05\n",
            "Epoch 45/100\n",
            "\u001b[1m13/17\u001b[0m \u001b[32m━━━━━━━━━━━━━━━\u001b[0m\u001b[37m━━━━━\u001b[0m \u001b[1m0s\u001b[0m 4ms/step - accuracy: 0.6622 - auc: 0.7729 - loss: 1.0945  \n",
            "Epoch 45: val_auc did not improve from 0.59546\n",
            "\u001b[1m17/17\u001b[0m \u001b[32m━━━━━━━━━━━━━━━━━━━━\u001b[0m\u001b[37m\u001b[0m \u001b[1m0s\u001b[0m 10ms/step - accuracy: 0.6692 - auc: 0.7764 - loss: 1.0916 - val_accuracy: 0.6704 - val_auc: 0.5909 - val_loss: 1.2422 - learning_rate: 1.0000e-05\n",
            "Epoch 46/100\n",
            "\u001b[1m13/17\u001b[0m \u001b[32m━━━━━━━━━━━━━━━\u001b[0m\u001b[37m━━━━━\u001b[0m \u001b[1m0s\u001b[0m 4ms/step - accuracy: 0.6812 - auc: 0.7230 - loss: 1.2021  \n",
            "Epoch 46: val_auc did not improve from 0.59546\n",
            "\u001b[1m17/17\u001b[0m \u001b[32m━━━━━━━━━━━━━━━━━━━━\u001b[0m\u001b[37m\u001b[0m \u001b[1m0s\u001b[0m 10ms/step - accuracy: 0.6776 - auc: 0.7225 - loss: 1.1964 - val_accuracy: 0.6704 - val_auc: 0.5907 - val_loss: 1.2451 - learning_rate: 1.0000e-05\n",
            "Epoch 47/100\n",
            "\u001b[1m14/17\u001b[0m \u001b[32m━━━━━━━━━━━━━━━━\u001b[0m\u001b[37m━━━━\u001b[0m \u001b[1m0s\u001b[0m 4ms/step - accuracy: 0.6009 - auc: 0.6899 - loss: 1.2435 \n",
            "Epoch 47: val_auc did not improve from 0.59546\n",
            "\u001b[1m17/17\u001b[0m \u001b[32m━━━━━━━━━━━━━━━━━━━━\u001b[0m\u001b[37m\u001b[0m \u001b[1m0s\u001b[0m 10ms/step - accuracy: 0.6111 - auc: 0.7009 - loss: 1.2265 - val_accuracy: 0.6704 - val_auc: 0.5907 - val_loss: 1.2504 - learning_rate: 1.0000e-05\n",
            "Epoch 48/100\n",
            "\u001b[1m14/17\u001b[0m \u001b[32m━━━━━━━━━━━━━━━━\u001b[0m\u001b[37m━━━━\u001b[0m \u001b[1m0s\u001b[0m 4ms/step - accuracy: 0.6574 - auc: 0.7152 - loss: 1.2257 \n",
            "Epoch 48: val_auc did not improve from 0.59546\n",
            "\u001b[1m17/17\u001b[0m \u001b[32m━━━━━━━━━━━━━━━━━━━━\u001b[0m\u001b[37m\u001b[0m \u001b[1m0s\u001b[0m 9ms/step - accuracy: 0.6585 - auc: 0.7196 - loss: 1.2132 - val_accuracy: 0.6648 - val_auc: 0.5901 - val_loss: 1.2491 - learning_rate: 1.0000e-05\n",
            "Epoch 49/100\n",
            "\u001b[1m13/17\u001b[0m \u001b[32m━━━━━━━━━━━━━━━\u001b[0m\u001b[37m━━━━━\u001b[0m \u001b[1m0s\u001b[0m 4ms/step - accuracy: 0.6640 - auc: 0.7222 - loss: 1.1713  \n",
            "Epoch 49: val_auc did not improve from 0.59546\n",
            "\u001b[1m17/17\u001b[0m \u001b[32m━━━━━━━━━━━━━━━━━━━━\u001b[0m\u001b[37m\u001b[0m \u001b[1m0s\u001b[0m 10ms/step - accuracy: 0.6645 - auc: 0.7242 - loss: 1.1705 - val_accuracy: 0.6760 - val_auc: 0.5894 - val_loss: 1.2501 - learning_rate: 1.0000e-05\n",
            "Epoch 50/100\n",
            "\u001b[1m11/17\u001b[0m \u001b[32m━━━━━━━━━━━━\u001b[0m\u001b[37m━━━━━━━━\u001b[0m \u001b[1m0s\u001b[0m 5ms/step - accuracy: 0.6807 - auc: 0.7429 - loss: 1.1736 \n",
            "Epoch 50: val_auc did not improve from 0.59546\n",
            "\u001b[1m17/17\u001b[0m \u001b[32m━━━━━━━━━━━━━━━━━━━━\u001b[0m\u001b[37m\u001b[0m \u001b[1m0s\u001b[0m 19ms/step - accuracy: 0.6794 - auc: 0.7481 - loss: 1.1570 - val_accuracy: 0.6760 - val_auc: 0.5893 - val_loss: 1.2444 - learning_rate: 1.0000e-05\n",
            "Epoch 51/100\n",
            "\u001b[1m11/17\u001b[0m \u001b[32m━━━━━━━━━━━━\u001b[0m\u001b[37m━━━━━━━━\u001b[0m \u001b[1m0s\u001b[0m 5ms/step - accuracy: 0.6834 - auc: 0.7308 - loss: 1.2121  \n",
            "Epoch 51: val_auc did not improve from 0.59546\n",
            "\u001b[1m17/17\u001b[0m \u001b[32m━━━━━━━━━━━━━━━━━━━━\u001b[0m\u001b[37m\u001b[0m \u001b[1m1s\u001b[0m 18ms/step - accuracy: 0.6775 - auc: 0.7334 - loss: 1.1978 - val_accuracy: 0.6536 - val_auc: 0.5904 - val_loss: 1.2352 - learning_rate: 1.0000e-05\n",
            "Epoch 52/100\n",
            "\u001b[1m11/17\u001b[0m \u001b[32m━━━━━━━━━━━━\u001b[0m\u001b[37m━━━━━━━━\u001b[0m \u001b[1m0s\u001b[0m 5ms/step - accuracy: 0.6591 - auc: 0.7308 - loss: 1.1652 \n",
            "Epoch 52: val_auc did not improve from 0.59546\n",
            "\u001b[1m17/17\u001b[0m \u001b[32m━━━━━━━━━━━━━━━━━━━━\u001b[0m\u001b[37m\u001b[0m \u001b[1m0s\u001b[0m 15ms/step - accuracy: 0.6685 - auc: 0.7423 - loss: 1.1485 - val_accuracy: 0.6592 - val_auc: 0.5919 - val_loss: 1.2262 - learning_rate: 1.0000e-05\n",
            "Epoch 53/100\n",
            "\u001b[1m11/17\u001b[0m \u001b[32m━━━━━━━━━━━━\u001b[0m\u001b[37m━━━━━━━━\u001b[0m \u001b[1m0s\u001b[0m 5ms/step - accuracy: 0.6129 - auc: 0.6725 - loss: 1.2787 \n",
            "Epoch 53: val_auc did not improve from 0.59546\n",
            "\u001b[1m17/17\u001b[0m \u001b[32m━━━━━━━━━━━━━━━━━━━━\u001b[0m\u001b[37m\u001b[0m \u001b[1m0s\u001b[0m 18ms/step - accuracy: 0.6383 - auc: 0.7003 - loss: 1.2352 - val_accuracy: 0.6592 - val_auc: 0.5927 - val_loss: 1.2173 - learning_rate: 1.0000e-05\n",
            "Epoch 54/100\n",
            "\u001b[1m10/17\u001b[0m \u001b[32m━━━━━━━━━━━\u001b[0m\u001b[37m━━━━━━━━━\u001b[0m \u001b[1m0s\u001b[0m 6ms/step - accuracy: 0.7598 - auc: 0.7920 - loss: 1.0776 \n",
            "Epoch 54: val_auc improved from 0.59546 to 0.59606, saving model to /content/depression_detection/best_model.h5\n"
          ]
        },
        {
          "output_type": "stream",
          "name": "stderr",
          "text": [
            "WARNING:absl:You are saving your model as an HDF5 file via `model.save()` or `keras.saving.save_model(model)`. This file format is considered legacy. We recommend using instead the native Keras format, e.g. `model.save('my_model.keras')` or `keras.saving.save_model(model, 'my_model.keras')`. \n"
          ]
        },
        {
          "output_type": "stream",
          "name": "stdout",
          "text": [
            "\b\b\b\b\b\b\b\b\b\b\b\b\b\b\b\b\b\b\b\b\b\b\b\b\b\b\b\b\b\b\b\b\b\b\b\b\b\b\b\b\b\b\b\b\b\b\b\b\b\b\b\b\b\b\b\b\b\b\b\b\b\b\b\b\b\b\b\b\b\b\b\b\b\b\b\b\b\b\b\b\b\b\b\b\b\b\r\u001b[1m17/17\u001b[0m \u001b[32m━━━━━━━━━━━━━━━━━━━━\u001b[0m\u001b[37m\u001b[0m \u001b[1m0s\u001b[0m 18ms/step - accuracy: 0.7474 - auc: 0.7858 - loss: 1.0877 - val_accuracy: 0.6592 - val_auc: 0.5961 - val_loss: 1.2107 - learning_rate: 1.0000e-05\n",
            "Epoch 55/100\n",
            "\u001b[1m14/17\u001b[0m \u001b[32m━━━━━━━━━━━━━━━━\u001b[0m\u001b[37m━━━━\u001b[0m \u001b[1m0s\u001b[0m 4ms/step - accuracy: 0.6708 - auc: 0.7049 - loss: 1.1981  \n",
            "Epoch 55: val_auc improved from 0.59606 to 0.59644, saving model to /content/depression_detection/best_model.h5\n"
          ]
        },
        {
          "output_type": "stream",
          "name": "stderr",
          "text": [
            "WARNING:absl:You are saving your model as an HDF5 file via `model.save()` or `keras.saving.save_model(model)`. This file format is considered legacy. We recommend using instead the native Keras format, e.g. `model.save('my_model.keras')` or `keras.saving.save_model(model, 'my_model.keras')`. \n"
          ]
        },
        {
          "output_type": "stream",
          "name": "stdout",
          "text": [
            "\b\b\b\b\b\b\b\b\b\b\b\b\b\b\b\b\b\b\b\b\b\b\b\b\b\b\b\b\b\b\b\b\b\b\b\b\b\b\b\b\b\b\b\b\b\b\b\b\b\b\b\b\b\b\b\b\b\b\b\b\b\b\b\b\b\b\b\b\b\b\b\b\b\b\b\b\b\b\b\b\b\b\b\b\b\b\r\u001b[1m17/17\u001b[0m \u001b[32m━━━━━━━━━━━━━━━━━━━━\u001b[0m\u001b[37m\u001b[0m \u001b[1m1s\u001b[0m 15ms/step - accuracy: 0.6719 - auc: 0.7085 - loss: 1.1970 - val_accuracy: 0.6592 - val_auc: 0.5964 - val_loss: 1.2108 - learning_rate: 1.0000e-05\n",
            "Epoch 56/100\n",
            "\u001b[1m14/17\u001b[0m \u001b[32m━━━━━━━━━━━━━━━━\u001b[0m\u001b[37m━━━━\u001b[0m \u001b[1m0s\u001b[0m 4ms/step - accuracy: 0.7167 - auc: 0.7761 - loss: 1.1253 \n",
            "Epoch 56: val_auc improved from 0.59644 to 0.59674, saving model to /content/depression_detection/best_model.h5\n"
          ]
        },
        {
          "output_type": "stream",
          "name": "stderr",
          "text": [
            "WARNING:absl:You are saving your model as an HDF5 file via `model.save()` or `keras.saving.save_model(model)`. This file format is considered legacy. We recommend using instead the native Keras format, e.g. `model.save('my_model.keras')` or `keras.saving.save_model(model, 'my_model.keras')`. \n"
          ]
        },
        {
          "output_type": "stream",
          "name": "stdout",
          "text": [
            "\b\b\b\b\b\b\b\b\b\b\b\b\b\b\b\b\b\b\b\b\b\b\b\b\b\b\b\b\b\b\b\b\b\b\b\b\b\b\b\b\b\b\b\b\b\b\b\b\b\b\b\b\b\b\b\b\b\b\b\b\b\b\b\b\b\b\b\b\b\b\b\b\b\b\b\b\b\b\b\b\b\b\b\b\b\b\r\u001b[1m17/17\u001b[0m \u001b[32m━━━━━━━━━━━━━━━━━━━━\u001b[0m\u001b[37m\u001b[0m \u001b[1m0s\u001b[0m 14ms/step - accuracy: 0.7146 - auc: 0.7753 - loss: 1.1234 - val_accuracy: 0.6648 - val_auc: 0.5967 - val_loss: 1.2077 - learning_rate: 1.0000e-05\n",
            "Epoch 57/100\n",
            "\u001b[1m14/17\u001b[0m \u001b[32m━━━━━━━━━━━━━━━━\u001b[0m\u001b[37m━━━━\u001b[0m \u001b[1m0s\u001b[0m 4ms/step - accuracy: 0.6786 - auc: 0.7246 - loss: 1.2121 \n",
            "Epoch 57: val_auc did not improve from 0.59674\n",
            "\u001b[1m17/17\u001b[0m \u001b[32m━━━━━━━━━━━━━━━━━━━━\u001b[0m\u001b[37m\u001b[0m \u001b[1m0s\u001b[0m 10ms/step - accuracy: 0.6862 - auc: 0.7322 - loss: 1.1940 - val_accuracy: 0.6648 - val_auc: 0.5965 - val_loss: 1.2067 - learning_rate: 1.0000e-05\n",
            "Epoch 58/100\n",
            "\u001b[1m14/17\u001b[0m \u001b[32m━━━━━━━━━━━━━━━━\u001b[0m\u001b[37m━━━━\u001b[0m \u001b[1m0s\u001b[0m 4ms/step - accuracy: 0.6861 - auc: 0.7695 - loss: 1.1256  \n",
            "Epoch 58: val_auc did not improve from 0.59674\n",
            "\u001b[1m17/17\u001b[0m \u001b[32m━━━━━━━━━━━━━━━━━━━━\u001b[0m\u001b[37m\u001b[0m \u001b[1m0s\u001b[0m 10ms/step - accuracy: 0.6853 - auc: 0.7654 - loss: 1.1295 - val_accuracy: 0.6648 - val_auc: 0.5935 - val_loss: 1.2164 - learning_rate: 1.0000e-05\n",
            "Epoch 59/100\n",
            "\u001b[1m13/17\u001b[0m \u001b[32m━━━━━━━━━━━━━━━\u001b[0m\u001b[37m━━━━━\u001b[0m \u001b[1m0s\u001b[0m 4ms/step - accuracy: 0.7196 - auc: 0.7912 - loss: 1.0941  \n",
            "Epoch 59: val_auc did not improve from 0.59674\n",
            "\u001b[1m17/17\u001b[0m \u001b[32m━━━━━━━━━━━━━━━━━━━━\u001b[0m\u001b[37m\u001b[0m \u001b[1m0s\u001b[0m 10ms/step - accuracy: 0.7135 - auc: 0.7847 - loss: 1.0957 - val_accuracy: 0.6536 - val_auc: 0.5916 - val_loss: 1.2271 - learning_rate: 1.0000e-05\n",
            "Epoch 60/100\n",
            "\u001b[1m14/17\u001b[0m \u001b[32m━━━━━━━━━━━━━━━━\u001b[0m\u001b[37m━━━━\u001b[0m \u001b[1m0s\u001b[0m 4ms/step - accuracy: 0.6978 - auc: 0.7516 - loss: 1.1285 \n",
            "Epoch 60: val_auc did not improve from 0.59674\n",
            "\u001b[1m17/17\u001b[0m \u001b[32m━━━━━━━━━━━━━━━━━━━━\u001b[0m\u001b[37m\u001b[0m \u001b[1m0s\u001b[0m 10ms/step - accuracy: 0.6943 - auc: 0.7435 - loss: 1.1427 - val_accuracy: 0.6648 - val_auc: 0.5912 - val_loss: 1.2346 - learning_rate: 1.0000e-05\n",
            "Epoch 61/100\n",
            "\u001b[1m14/17\u001b[0m \u001b[32m━━━━━━━━━━━━━━━━\u001b[0m\u001b[37m━━━━\u001b[0m \u001b[1m0s\u001b[0m 4ms/step - accuracy: 0.7170 - auc: 0.7965 - loss: 1.0586 \n",
            "Epoch 61: val_auc did not improve from 0.59674\n",
            "\u001b[1m17/17\u001b[0m \u001b[32m━━━━━━━━━━━━━━━━━━━━\u001b[0m\u001b[37m\u001b[0m \u001b[1m0s\u001b[0m 10ms/step - accuracy: 0.7083 - auc: 0.7864 - loss: 1.0737 - val_accuracy: 0.6648 - val_auc: 0.5930 - val_loss: 1.2342 - learning_rate: 1.0000e-05\n",
            "Epoch 62/100\n",
            "\u001b[1m14/17\u001b[0m \u001b[32m━━━━━━━━━━━━━━━━\u001b[0m\u001b[37m━━━━\u001b[0m \u001b[1m0s\u001b[0m 4ms/step - accuracy: 0.7053 - auc: 0.7235 - loss: 1.2002 \n",
            "Epoch 62: val_auc did not improve from 0.59674\n",
            "\u001b[1m17/17\u001b[0m \u001b[32m━━━━━━━━━━━━━━━━━━━━\u001b[0m\u001b[37m\u001b[0m \u001b[1m0s\u001b[0m 10ms/step - accuracy: 0.7103 - auc: 0.7324 - loss: 1.1841 - val_accuracy: 0.6704 - val_auc: 0.5936 - val_loss: 1.2325 - learning_rate: 1.0000e-05\n",
            "Epoch 63/100\n",
            "\u001b[1m12/17\u001b[0m \u001b[32m━━━━━━━━━━━━━━\u001b[0m\u001b[37m━━━━━━\u001b[0m \u001b[1m0s\u001b[0m 5ms/step - accuracy: 0.7820 - auc: 0.8293 - loss: 1.0235 \n",
            "Epoch 63: val_auc did not improve from 0.59674\n",
            "\u001b[1m17/17\u001b[0m \u001b[32m━━━━━━━━━━━━━━━━━━━━\u001b[0m\u001b[37m\u001b[0m \u001b[1m0s\u001b[0m 11ms/step - accuracy: 0.7637 - auc: 0.8048 - loss: 1.0611 - val_accuracy: 0.6648 - val_auc: 0.5936 - val_loss: 1.2370 - learning_rate: 1.0000e-05\n",
            "Epoch 64/100\n",
            "\u001b[1m14/17\u001b[0m \u001b[32m━━━━━━━━━━━━━━━━\u001b[0m\u001b[37m━━━━\u001b[0m \u001b[1m0s\u001b[0m 4ms/step - accuracy: 0.7201 - auc: 0.7925 - loss: 1.0473  \n",
            "Epoch 64: val_auc did not improve from 0.59674\n",
            "\u001b[1m17/17\u001b[0m \u001b[32m━━━━━━━━━━━━━━━━━━━━\u001b[0m\u001b[37m\u001b[0m \u001b[1m0s\u001b[0m 10ms/step - accuracy: 0.7172 - auc: 0.7900 - loss: 1.0530 - val_accuracy: 0.6648 - val_auc: 0.5940 - val_loss: 1.2351 - learning_rate: 1.0000e-05\n",
            "Epoch 65/100\n",
            "\u001b[1m14/17\u001b[0m \u001b[32m━━━━━━━━━━━━━━━━\u001b[0m\u001b[37m━━━━\u001b[0m \u001b[1m0s\u001b[0m 4ms/step - accuracy: 0.7096 - auc: 0.7625 - loss: 1.1481  \n",
            "Epoch 65: val_auc did not improve from 0.59674\n",
            "\u001b[1m17/17\u001b[0m \u001b[32m━━━━━━━━━━━━━━━━━━━━\u001b[0m\u001b[37m\u001b[0m \u001b[1m0s\u001b[0m 10ms/step - accuracy: 0.7036 - auc: 0.7597 - loss: 1.1488 - val_accuracy: 0.6648 - val_auc: 0.5928 - val_loss: 1.2417 - learning_rate: 1.0000e-05\n",
            "Epoch 66/100\n",
            "\u001b[1m14/17\u001b[0m \u001b[32m━━━━━━━━━━━━━━━━\u001b[0m\u001b[37m━━━━\u001b[0m \u001b[1m0s\u001b[0m 4ms/step - accuracy: 0.5925 - auc: 0.7096 - loss: 1.1779  \n",
            "Epoch 66: val_auc did not improve from 0.59674\n",
            "\u001b[1m17/17\u001b[0m \u001b[32m━━━━━━━━━━━━━━━━━━━━\u001b[0m\u001b[37m\u001b[0m \u001b[1m0s\u001b[0m 10ms/step - accuracy: 0.6077 - auc: 0.7209 - loss: 1.1608 - val_accuracy: 0.6648 - val_auc: 0.5929 - val_loss: 1.2433 - learning_rate: 1.0000e-05\n",
            "Epoch 67/100\n",
            "\u001b[1m14/17\u001b[0m \u001b[32m━━━━━━━━━━━━━━━━\u001b[0m\u001b[37m━━━━\u001b[0m \u001b[1m0s\u001b[0m 4ms/step - accuracy: 0.6297 - auc: 0.6824 - loss: 1.2429  \n",
            "Epoch 67: val_auc did not improve from 0.59674\n",
            "\u001b[1m17/17\u001b[0m \u001b[32m━━━━━━━━━━━━━━━━━━━━\u001b[0m\u001b[37m\u001b[0m \u001b[1m0s\u001b[0m 10ms/step - accuracy: 0.6377 - auc: 0.6920 - loss: 1.2277 - val_accuracy: 0.6648 - val_auc: 0.5919 - val_loss: 1.2441 - learning_rate: 1.0000e-05\n",
            "Epoch 68/100\n",
            "\u001b[1m14/17\u001b[0m \u001b[32m━━━━━━━━━━━━━━━━\u001b[0m\u001b[37m━━━━\u001b[0m \u001b[1m0s\u001b[0m 4ms/step - accuracy: 0.6292 - auc: 0.7410 - loss: 1.2044 \n",
            "Epoch 68: val_auc did not improve from 0.59674\n",
            "\u001b[1m17/17\u001b[0m \u001b[32m━━━━━━━━━━━━━━━━━━━━\u001b[0m\u001b[37m\u001b[0m \u001b[1m0s\u001b[0m 9ms/step - accuracy: 0.6326 - auc: 0.7433 - loss: 1.1942 - val_accuracy: 0.6704 - val_auc: 0.5910 - val_loss: 1.2409 - learning_rate: 1.0000e-05\n",
            "Epoch 69/100\n",
            "\u001b[1m14/17\u001b[0m \u001b[32m━━━━━━━━━━━━━━━━\u001b[0m\u001b[37m━━━━\u001b[0m \u001b[1m0s\u001b[0m 4ms/step - accuracy: 0.6435 - auc: 0.7157 - loss: 1.2073 \n",
            "Epoch 69: val_auc did not improve from 0.59674\n",
            "\u001b[1m17/17\u001b[0m \u001b[32m━━━━━━━━━━━━━━━━━━━━\u001b[0m\u001b[37m\u001b[0m \u001b[1m0s\u001b[0m 11ms/step - accuracy: 0.6459 - auc: 0.7177 - loss: 1.2022 - val_accuracy: 0.6704 - val_auc: 0.5905 - val_loss: 1.2453 - learning_rate: 1.0000e-05\n",
            "Epoch 70/100\n",
            "\u001b[1m13/17\u001b[0m \u001b[32m━━━━━━━━━━━━━━━\u001b[0m\u001b[37m━━━━━\u001b[0m \u001b[1m0s\u001b[0m 4ms/step - accuracy: 0.6260 - auc: 0.7304 - loss: 1.1618  \n",
            "Epoch 70: val_auc did not improve from 0.59674\n",
            "\u001b[1m17/17\u001b[0m \u001b[32m━━━━━━━━━━━━━━━━━━━━\u001b[0m\u001b[37m\u001b[0m \u001b[1m0s\u001b[0m 11ms/step - accuracy: 0.6270 - auc: 0.7260 - loss: 1.1693 - val_accuracy: 0.6648 - val_auc: 0.5925 - val_loss: 1.2360 - learning_rate: 1.0000e-05\n",
            "Epoch 71/100\n",
            "\u001b[1m14/17\u001b[0m \u001b[32m━━━━━━━━━━━━━━━━\u001b[0m\u001b[37m━━━━\u001b[0m \u001b[1m0s\u001b[0m 4ms/step - accuracy: 0.6707 - auc: 0.7365 - loss: 1.1649 \n",
            "Epoch 71: val_auc did not improve from 0.59674\n",
            "\u001b[1m17/17\u001b[0m \u001b[32m━━━━━━━━━━━━━━━━━━━━\u001b[0m\u001b[37m\u001b[0m \u001b[1m0s\u001b[0m 10ms/step - accuracy: 0.6725 - auc: 0.7373 - loss: 1.1612 - val_accuracy: 0.6704 - val_auc: 0.5926 - val_loss: 1.2369 - learning_rate: 1.0000e-05\n",
            "Epoch 72/100\n",
            "\u001b[1m13/17\u001b[0m \u001b[32m━━━━━━━━━━━━━━━\u001b[0m\u001b[37m━━━━━\u001b[0m \u001b[1m0s\u001b[0m 4ms/step - accuracy: 0.6677 - auc: 0.7032 - loss: 1.2589  \n",
            "Epoch 72: val_auc did not improve from 0.59674\n",
            "\u001b[1m17/17\u001b[0m \u001b[32m━━━━━━━━━━━━━━━━━━━━\u001b[0m\u001b[37m\u001b[0m \u001b[1m0s\u001b[0m 9ms/step - accuracy: 0.6768 - auc: 0.7099 - loss: 1.2420 - val_accuracy: 0.6592 - val_auc: 0.5938 - val_loss: 1.2355 - learning_rate: 1.0000e-05\n",
            "Epoch 73/100\n",
            "\u001b[1m14/17\u001b[0m \u001b[32m━━━━━━━━━━━━━━━━\u001b[0m\u001b[37m━━━━\u001b[0m \u001b[1m0s\u001b[0m 4ms/step - accuracy: 0.6240 - auc: 0.6606 - loss: 1.3199  \n",
            "Epoch 73: val_auc did not improve from 0.59674\n",
            "\u001b[1m17/17\u001b[0m \u001b[32m━━━━━━━━━━━━━━━━━━━━\u001b[0m\u001b[37m\u001b[0m \u001b[1m0s\u001b[0m 10ms/step - accuracy: 0.6374 - auc: 0.6748 - loss: 1.2925 - val_accuracy: 0.6592 - val_auc: 0.5915 - val_loss: 1.2403 - learning_rate: 1.0000e-05\n",
            "Epoch 74/100\n",
            "\u001b[1m14/17\u001b[0m \u001b[32m━━━━━━━━━━━━━━━━\u001b[0m\u001b[37m━━━━\u001b[0m \u001b[1m0s\u001b[0m 4ms/step - accuracy: 0.7181 - auc: 0.7978 - loss: 1.0838 \n",
            "Epoch 74: val_auc did not improve from 0.59674\n",
            "\u001b[1m17/17\u001b[0m \u001b[32m━━━━━━━━━━━━━━━━━━━━\u001b[0m\u001b[37m\u001b[0m \u001b[1m0s\u001b[0m 10ms/step - accuracy: 0.7102 - auc: 0.7865 - loss: 1.1025 - val_accuracy: 0.6592 - val_auc: 0.5919 - val_loss: 1.2383 - learning_rate: 1.0000e-05\n",
            "Epoch 75/100\n",
            "\u001b[1m14/17\u001b[0m \u001b[32m━━━━━━━━━━━━━━━━\u001b[0m\u001b[37m━━━━\u001b[0m \u001b[1m0s\u001b[0m 4ms/step - accuracy: 0.7635 - auc: 0.8106 - loss: 1.0304  \n",
            "Epoch 75: val_auc did not improve from 0.59674\n",
            "\u001b[1m17/17\u001b[0m \u001b[32m━━━━━━━━━━━━━━━━━━━━\u001b[0m\u001b[37m\u001b[0m \u001b[1m0s\u001b[0m 10ms/step - accuracy: 0.7492 - auc: 0.7964 - loss: 1.0581 - val_accuracy: 0.6592 - val_auc: 0.5918 - val_loss: 1.2381 - learning_rate: 1.0000e-05\n",
            "Epoch 76/100\n",
            "\u001b[1m14/17\u001b[0m \u001b[32m━━━━━━━━━━━━━━━━\u001b[0m\u001b[37m━━━━\u001b[0m \u001b[1m0s\u001b[0m 4ms/step - accuracy: 0.7331 - auc: 0.7885 - loss: 1.0667 \n",
            "Epoch 76: val_auc did not improve from 0.59674\n",
            "\u001b[1m17/17\u001b[0m \u001b[32m━━━━━━━━━━━━━━━━━━━━\u001b[0m\u001b[37m\u001b[0m \u001b[1m0s\u001b[0m 11ms/step - accuracy: 0.7353 - auc: 0.7905 - loss: 1.0699 - val_accuracy: 0.6592 - val_auc: 0.5926 - val_loss: 1.2354 - learning_rate: 1.0000e-05\n",
            "Epoch 76: early stopping\n",
            "Restoring model weights from the end of the best epoch: 56.\n"
          ]
        },
        {
          "output_type": "stream",
          "name": "stderr",
          "text": [
            "WARNING:absl:Compiled the loaded model, but the compiled metrics have yet to be built. `model.compile_metrics` will be empty until you train or evaluate the model.\n"
          ]
        }
      ]
    },
    {
      "cell_type": "code",
      "source": [
        "# Evaluate on test set\n",
        "print(\"\\nEvaluating the model on test set...\")\n",
        "test_loss, test_acc, test_auc = model.evaluate(X_test_cnn, y_test)\n",
        "print(f\"Test accuracy: {test_acc:.4f}\")\n",
        "print(f\"Test AUC: {test_auc:.4f}\")\n",
        "\n",
        "# Predictions\n",
        "y_pred_prob = model.predict(X_test_cnn)\n",
        "y_pred = (y_pred_prob > 0.5).astype(int).flatten()\n",
        "\n",
        "# Classification report\n",
        "print(\"\\nClassification Report:\")\n",
        "print(classification_report(y_test, y_pred))\n",
        "\n",
        "# Confusion matrix\n",
        "cm = confusion_matrix(y_test, y_pred)\n",
        "plt.figure(figsize=(8, 6))\n",
        "sns.heatmap(cm, annot=True, fmt='d', cmap='Blues')\n",
        "plt.title('Confusion Matrix')\n",
        "plt.xlabel('Predicted Labels')\n",
        "plt.ylabel('True Labels')\n",
        "plt.savefig(os.path.join(base_path, 'confusion_matrix.png'))\n",
        "plt.close()"
      ],
      "metadata": {
        "colab": {
          "base_uri": "https://localhost:8080/"
        },
        "id": "uSjioB9WfNz0",
        "outputId": "8ed4aa72-3585-4537-8be2-4ed32d04bc29"
      },
      "execution_count": 29,
      "outputs": [
        {
          "output_type": "stream",
          "name": "stdout",
          "text": [
            "\n",
            "Evaluating the model on test set...\n",
            "\u001b[1m6/6\u001b[0m \u001b[32m━━━━━━━━━━━━━━━━━━━━\u001b[0m\u001b[37m\u001b[0m \u001b[1m2s\u001b[0m 118ms/step - accuracy: 0.6004 - auc: 0.5547 - loss: 1.3511\n",
            "Test accuracy: 0.6348\n",
            "Test AUC: 0.5565\n",
            "\u001b[1m6/6\u001b[0m \u001b[32m━━━━━━━━━━━━━━━━━━━━\u001b[0m\u001b[37m\u001b[0m \u001b[1m1s\u001b[0m 76ms/step\n",
            "\n",
            "Classification Report:\n",
            "              precision    recall  f1-score   support\n",
            "\n",
            "           0       0.71      0.81      0.76       124\n",
            "           1       0.34      0.22      0.27        54\n",
            "\n",
            "    accuracy                           0.63       178\n",
            "   macro avg       0.52      0.52      0.51       178\n",
            "weighted avg       0.60      0.63      0.61       178\n",
            "\n"
          ]
        }
      ]
    },
    {
      "cell_type": "code",
      "source": [
        "# ROC Curve\n",
        "from sklearn.metrics import roc_curve, auc\n",
        "fpr, tpr, _ = roc_curve(y_test, y_pred_prob)\n",
        "roc_auc = auc(fpr, tpr)\n",
        "\n",
        "plt.figure(figsize=(8, 6))\n",
        "plt.plot([0, 1], [0, 1], 'k--')\n",
        "plt.plot(fpr, tpr, label=f'AUC = {roc_auc:.4f}')\n",
        "plt.xlabel('False Positive Rate')\n",
        "plt.ylabel('True Positive Rate')\n",
        "plt.title('ROC Curve')\n",
        "plt.legend(loc='lower right')\n",
        "plt.savefig(os.path.join(base_path, 'roc_curve.png'))\n",
        "plt.show()\n",
        "\n",
        "# Training history\n",
        "plt.figure(figsize=(12, 4))\n",
        "plt.subplot(1, 2, 1)\n",
        "plt.plot(history.history['loss'], label='Train Loss')\n",
        "plt.plot(history.history['val_loss'], label='Validation Loss')\n",
        "plt.title('Loss Over Epochs')\n",
        "plt.legend()\n",
        "plt.xlabel('Epochs')\n",
        "plt.ylabel('Loss')\n",
        "plt.show()\n",
        "\n",
        "plt.subplot(1, 2, 2)\n",
        "plt.plot(history.history['auc'], label='Train AUC')\n",
        "plt.plot(history.history['val_auc'], label='Validation AUC')\n",
        "plt.title('AUC Over Epochs')\n",
        "plt.xlabel('Epochs')\n",
        "plt.ylabel('AUC')\n",
        "plt.legend()\n",
        "plt.tight_layout()\n",
        "plt.savefig(os.path.join(base_path, 'training_history.png'))\n",
        "plt.show()"
      ],
      "metadata": {
        "colab": {
          "base_uri": "https://localhost:8080/",
          "height": 1000
        },
        "id": "A0axozslfPxR",
        "outputId": "4d1b2ffa-f2a1-4556-d6e5-90568123d456"
      },
      "execution_count": 30,
      "outputs": [
        {
          "output_type": "display_data",
          "data": {
            "text/plain": [
              "<Figure size 800x600 with 1 Axes>"
            ],
            "image/png": "[encoded data removed]"
          },
          "metadata": {}
        },
        {
          "output_type": "display_data",
          "data": {
            "text/plain": [
              "<Figure size 1200x400 with 1 Axes>"
            ],
            "image/png": "[encoded data removed]"
          },
          "metadata": {}
        },
        {
          "output_type": "display_data",
          "data": {
            "text/plain": [
              "<Figure size 640x480 with 1 Axes>"
            ],
            "image/png": "[encoded data removed]"
          },
          "metadata": {}
        }
      ]
    },
    {
      "cell_type": "code",
      "source": [],
      "metadata": {
        "id": "tmeipK9hfiHp"
      },
      "execution_count": 30,
      "outputs": []
    },
    {
      "cell_type": "code",
      "source": [
        "# Save the model architecture as JSON\n",
        "model_json = model.to_json()\n",
        "with open(os.path.join(base_path, 'model_architecture.json'), 'w') as json_file:\n",
        "    json_file.write(model_json)\n",
        "\n",
        "# Save the scaler for future preprocessing\n",
        "import joblib\n",
        "joblib.dump(scaler, os.path.join(base_path, 'scaler.pkl'))"
      ],
      "metadata": {
        "colab": {
          "base_uri": "https://localhost:8080/"
        },
        "id": "6DkIIy8iguSb",
        "outputId": "863332da-f71b-4937-97cb-4e6a9fb6645f"
      },
      "execution_count": 31,
      "outputs": [
        {
          "output_type": "execute_result",
          "data": {
            "text/plain": [
              "['/content/depression_detection/scaler.pkl']"
            ]
          },
          "metadata": {},
          "execution_count": 31
        }
      ]
    },
    {
      "cell_type": "code",
      "source": [
        "# Create a function for predicting depression from new audio files\n",
        "def predict_from_audio(audio_file_path, model_path, scaler_path):\n",
        "    \"\"\"\n",
        "    Make depression prediction from a new audio file.\n",
        "\n",
        "    Parameters:\n",
        "    -----------\n",
        "    audio_file_path : str\n",
        "        Path to the audio file\n",
        "    model_path : str\n",
        "        Path to the saved Keras model\n",
        "    scaler_path : str\n",
        "        Path to the saved scaler\n",
        "\n",
        "    Returns:\n",
        "    --------\n",
        "    prediction : int\n",
        "        Binary depression prediction (0 or 1)\n",
        "    probability : float\n",
        "        Probability of depression\n",
        "    \"\"\"\n",
        "    # Import required libraries\n",
        "    import librosa\n",
        "    import numpy as np\n",
        "    from tensorflow.keras.models import load_model\n",
        "    import joblib\n",
        "\n",
        "    # Load the model and scaler\n",
        "    model = load_model(model_path)\n",
        "    scaler = joblib.load(scaler_path)\n",
        "\n",
        "    # Define the feature extraction function (same as in your original code)\n",
        "    def extract_features(file_path):\n",
        "        # Load audio file\n",
        "        y, sr = librosa.load(file_path, sr=None)\n",
        "\n",
        "        # Extract features\n",
        "        # 1. MFCCs\n",
        "        mfccs = librosa.feature.mfcc(y=y, sr=sr, n_mfcc=13)\n",
        "        mfcc_means = np.mean(mfccs, axis=1)\n",
        "        mfcc_vars = np.var(mfccs, axis=1)\n",
        "\n",
        "        # 2. Spectral features\n",
        "        spectral_centroid = librosa.feature.spectral_centroid(y=y, sr=sr)[0]\n",
        "        spectral_bandwidth = librosa.feature.spectral_bandwidth(y=y, sr=sr)[0]\n",
        "        spectral_rolloff = librosa.feature.spectral_rolloff(y=y, sr=sr)[0]\n",
        "\n",
        "        # 3. Pitch and energy features\n",
        "        f0 = librosa.yin(y, fmin=librosa.note_to_hz('C2'), fmax=librosa.note_to_hz('C7'))\n",
        "\n",
        "        # 4. Zero-crossing rate\n",
        "        zcr = librosa.feature.zero_crossing_rate(y)[0]\n",
        "\n",
        "        # 5. RMS energy\n",
        "        rms = librosa.feature.rms(y=y)[0]\n",
        "\n",
        "        # Statistical features\n",
        "        features = np.concatenate([\n",
        "            mfcc_means, mfcc_vars,\n",
        "            [np.mean(spectral_centroid), np.var(spectral_centroid)],\n",
        "            [np.mean(spectral_bandwidth), np.var(spectral_bandwidth)],\n",
        "            [np.mean(spectral_rolloff), np.var(spectral_rolloff)],\n",
        "            [np.mean(f0), np.var(f0)],\n",
        "            [np.mean(zcr), np.var(zcr)],\n",
        "            [np.mean(rms), np.var(rms)]\n",
        "        ])\n",
        "\n",
        "        return features\n",
        "\n",
        "    # Extract features from the new audio\n",
        "    features = extract_features(audio_file_path)\n",
        "\n",
        "    # Scale features\n",
        "    features_scaled = scaler.transform(features.reshape(1, -1))\n",
        "\n",
        "    # Reshape for CNN input\n",
        "    features_cnn = features_scaled.reshape(1, features_scaled.shape[1], 1)\n",
        "\n",
        "    # Make prediction\n",
        "    probability = model.predict(features_cnn)[0][0]\n",
        "    prediction = 1 if probability >= 0.5 else 0\n",
        "\n",
        "    return prediction, probability"
      ],
      "metadata": {
        "id": "r8I1kFwFgu6h"
      },
      "execution_count": 32,
      "outputs": []
    },
    {
      "cell_type": "code",
      "source": [
        "# Save the prediction function code to a separate file\n",
        "with open(os.path.join(base_path, 'predict_from_audio.py'), 'w') as f:\n",
        "    f.write(\"\"\"\n",
        "import librosa\n",
        "import numpy as np\n",
        "from tensorflow.keras.models import load_model\n",
        "import joblib\n",
        "\n",
        "def extract_features(file_path):\n",
        "    # Load audio file\n",
        "    y, sr = librosa.load(file_path, sr=None)\n",
        "\n",
        "    # Extract features\n",
        "    # 1. MFCCs\n",
        "    mfccs = librosa.feature.mfcc(y=y, sr=sr, n_mfcc=13)\n",
        "    mfcc_means = np.mean(mfccs, axis=1)\n",
        "    mfcc_vars = np.var(mfccs, axis=1)\n",
        "\n",
        "    # 2. Spectral features\n",
        "    spectral_centroid = librosa.feature.spectral_centroid(y=y, sr=sr)[0]\n",
        "    spectral_bandwidth = librosa.feature.spectral_bandwidth(y=y, sr=sr)[0]\n",
        "    spectral_rolloff = librosa.feature.spectral_rolloff(y=y, sr=sr)[0]\n",
        "\n",
        "    # 3. Pitch and energy features\n",
        "    f0 = librosa.yin(y, fmin=librosa.note_to_hz('C2'), fmax=librosa.note_to_hz('C7'))\n",
        "\n",
        "    # 4. Zero-crossing rate\n",
        "    zcr = librosa.feature.zero_crossing_rate(y)[0]\n",
        "\n",
        "    # 5. RMS energy\n",
        "    rms = librosa.feature.rms(y=y)[0]\n",
        "\n",
        "    # Statistical features\n",
        "    features = np.concatenate([\n",
        "        mfcc_means, mfcc_vars,\n",
        "        [np.mean(spectral_centroid), np.var(spectral_centroid)],\n",
        "        [np.mean(spectral_bandwidth), np.var(spectral_bandwidth)],\n",
        "        [np.mean(spectral_rolloff), np.var(spectral_rolloff)],\n",
        "        [np.mean(f0), np.var(f0)],\n",
        "        [np.mean(zcr), np.var(zcr)],\n",
        "        [np.mean(rms), np.var(rms)]\n",
        "    ])\n",
        "\n",
        "    return features\n",
        "\n",
        "def predict_from_audio(audio_file_path, model_path, scaler_path):\n",
        "    # Load the model and scaler\n",
        "    model = load_model(model_path)\n",
        "    scaler = joblib.load(scaler_path)\n",
        "\n",
        "    # Extract features from the new audio\n",
        "    features = extract_features(audio_file_path)\n",
        "\n",
        "    # Scale features\n",
        "    features_scaled = scaler.transform(features.reshape(1, -1))\n",
        "\n",
        "    # Reshape for CNN input\n",
        "    features_cnn = features_scaled.reshape(1, features_scaled.shape[1], 1)\n",
        "\n",
        "    # Make prediction\n",
        "    probability = model.predict(features_cnn)[0][0]\n",
        "    prediction = 1 if probability >= 0.5 else 0\n",
        "\n",
        "    return prediction, probability\n",
        "\n",
        "# Example usage\n",
        "if __name__ == \"__main__\":\n",
        "    import sys\n",
        "    if len(sys.argv) < 2:\n",
        "        print(\"Usage: python predict_from_audio.py <audio_file_path>\")\n",
        "        sys.exit(1)\n",
        "\n",
        "    audio_path = sys.argv[1]\n",
        "    model_path = \"best_model.h5\"\n",
        "    scaler_path = \"scaler.pkl\"\n",
        "\n",
        "    prediction, probability = predict_from_audio(audio_path, model_path, scaler_path)\n",
        "    print(f\"Depression prediction: {'Positive' if prediction == 1 else 'Negative'}\")\n",
        "    print(f\"Probability: {probability:.4f}\")\n",
        "\"\"\")"
      ],
      "metadata": {
        "id": "xaqv3Zmvgx19"
      },
      "execution_count": 33,
      "outputs": []
    },
    {
      "cell_type": "code",
      "source": [
        "import librosa\n",
        "import numpy as np\n",
        "from tensorflow.keras.models import load_model\n",
        "import joblib\n",
        "\n",
        "def extract_features(file_path):\n",
        "    # Load audio file\n",
        "    y, sr = librosa.load(file_path, sr=None)\n",
        "\n",
        "    # Extract features\n",
        "    # 1. MFCCs (captures vocal tract configuration)\n",
        "    mfccs = librosa.feature.mfcc(y=y, sr=sr, n_mfcc=13)\n",
        "    mfcc_means = np.mean(mfccs, axis=1)\n",
        "    mfcc_vars = np.var(mfccs, axis=1)\n",
        "\n",
        "    # 2. Spectral features\n",
        "    spectral_centroid = librosa.feature.spectral_centroid(y=y, sr=sr)[0]\n",
        "    spectral_bandwidth = librosa.feature.spectral_bandwidth(y=y, sr=sr)[0]\n",
        "    spectral_rolloff = librosa.feature.spectral_rolloff(y=y, sr=sr)[0]\n",
        "\n",
        "    # 3. Pitch and energy features\n",
        "    f0 = librosa.yin(y, fmin=librosa.note_to_hz('C2'), fmax=librosa.note_to_hz('C7'))\n",
        "    pitches, magnitudes = librosa.piptrack(y=y, sr=sr)\n",
        "\n",
        "    # 4. Zero-crossing rate (related to voice quality)\n",
        "    zcr = librosa.feature.zero_crossing_rate(y)[0]\n",
        "\n",
        "    # 5. RMS energy\n",
        "    rms = librosa.feature.rms(y=y)[0]\n",
        "\n",
        "    # Statistical features\n",
        "    features = np.concatenate([\n",
        "        mfcc_means, mfcc_vars,\n",
        "        [np.mean(spectral_centroid), np.var(spectral_centroid)],\n",
        "        [np.mean(spectral_bandwidth), np.var(spectral_bandwidth)],\n",
        "        [np.mean(spectral_rolloff), np.var(spectral_rolloff)],\n",
        "        [np.mean(f0), np.var(f0)],\n",
        "        [np.mean(zcr), np.var(zcr)],\n",
        "        [np.mean(rms), np.var(rms)]\n",
        "    ])\n",
        "\n",
        "    return features\n",
        "\n",
        "def predict_from_audio(audio_file_path, model_path, scaler_path):\n",
        "    # Load the model and scaler\n",
        "    model = load_model(model_path)\n",
        "    scaler = joblib.load(scaler_path)\n",
        "\n",
        "    # Extract features from the new audio\n",
        "    features = extract_features(audio_file_path)\n",
        "\n",
        "    # Simulate aggregation as done during training\n",
        "    # We need to create a feature vector of size 152 (38 features × 4 statistics)\n",
        "    # Since we only have one audio file, we'll use the same features for mean,\n",
        "    # and set std, min, max to appropriate values\n",
        "\n",
        "    # For single audio file:\n",
        "    # - mean = features\n",
        "    # - std = zeros (no variation with single sample)\n",
        "    # - min = features (same as features for single sample)\n",
        "    # - max = features (same as features for single sample)\n",
        "\n",
        "    mean_features = features\n",
        "    std_features = np.zeros_like(features)  # No std with single sample\n",
        "    min_features = features\n",
        "    max_features = features\n",
        "\n",
        "    # Combine to match the expected 152 features\n",
        "    aggregated_features = np.concatenate([mean_features, std_features, min_features, max_features])\n",
        "\n",
        "    # Scale features\n",
        "    features_scaled = scaler.transform(aggregated_features.reshape(1, -1))\n",
        "\n",
        "    # Check if model expects CNN input format (3D) or standard format (2D)\n",
        "    if len(model.input_shape) > 2:\n",
        "        # Reshape for CNN input - adjust based on your model's expected input shape\n",
        "        input_shape = model.input_shape[1:]\n",
        "        if len(input_shape) == 2:  # (features, 1) shape\n",
        "            features_input = features_scaled.reshape(1, features_scaled.shape[1], 1)\n",
        "        else:\n",
        "            features_input = features_scaled  # Use as is if shape is already correct\n",
        "    else:\n",
        "        # For standard models like dense networks\n",
        "        features_input = features_scaled\n",
        "\n",
        "    # Make prediction\n",
        "    probability = model.predict(features_input)[0][0]\n",
        "    prediction = 1 if probability >= 0.5 else 0\n",
        "\n",
        "    return prediction, probability\n",
        "\n",
        "# Example usage\n",
        "if __name__ == \"__main__\":\n",
        "    audio_path = \"/content/308_13.wav\"\n",
        "    model_path = \"/content/depression_detection/best_model.h5\"\n",
        "    scaler_path = \"/content/depression_detection/scaler.pkl\"\n",
        "\n",
        "    prediction, probability = predict_from_audio(audio_path, model_path, scaler_path)\n",
        "    print(f\"Depression prediction: {'Positive' if prediction == 1 else 'Negative'}\")\n",
        "    print(f\"Probability: {probability:.4f}\")"
      ],
      "metadata": {
        "colab": {
          "base_uri": "https://localhost:8080/"
        },
        "id": "z0t16AQYg1HV",
        "outputId": "28b493d6-9dab-4194-fc14-a28f28b67233"
      },
      "execution_count": 38,
      "outputs": [
        {
          "output_type": "stream",
          "name": "stderr",
          "text": [
            "WARNING:absl:Compiled the loaded model, but the compiled metrics have yet to be built. `model.compile_metrics` will be empty until you train or evaluate the model.\n"
          ]
        },
        {
          "output_type": "stream",
          "name": "stdout",
          "text": [
            "\u001b[1m1/1\u001b[0m \u001b[32m━━━━━━━━━━━━━━━━━━━━\u001b[0m\u001b[37m\u001b[0m \u001b[1m1s\u001b[0m 666ms/step\n",
            "Depression prediction: Negative\n",
            "Probability: 0.2628\n"
          ]
        }
      ]
    },
    {
      "cell_type": "code",
      "source": [],
      "metadata": {
        "id": "6M0F3qVdhqNl"
      },
      "execution_count": null,
      "outputs": []
    }
  ]
}